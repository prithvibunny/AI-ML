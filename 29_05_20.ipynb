{
  "nbformat": 4,
  "nbformat_minor": 0,
  "metadata": {
    "colab": {
      "name": "29-05-20",
      "provenance": []
    },
    "kernelspec": {
      "name": "python3",
      "display_name": "Python 3"
    }
  },
  "cells": [
    {
      "cell_type": "code",
      "metadata": {
        "id": "gev_DDQJZaYO",
        "colab_type": "code",
        "outputId": "c9d79fd6-f143-4a58-9360-d71b0b83bf99",
        "colab": {
          "base_uri": "https://localhost:8080/",
          "height": 85
        }
      },
      "source": [
        "#loop control statements:break,continue\n",
        "for i in range(1,11):\n",
        "    if i%5==0:\n",
        "      break\n",
        "    else:\n",
        "      print(i)\n",
        "  \n",
        "\n",
        "\n"
      ],
      "execution_count": 0,
      "outputs": [
        {
          "output_type": "stream",
          "text": [
            "1\n",
            "2\n",
            "3\n",
            "4\n"
          ],
          "name": "stdout"
        }
      ]
    },
    {
      "cell_type": "code",
      "metadata": {
        "id": "uhpEWxCDmM7u",
        "colab_type": "code",
        "outputId": "9c2db923-8d5d-4874-ac35-0c2762a72f11",
        "colab": {
          "base_uri": "https://localhost:8080/",
          "height": 153
        }
      },
      "source": [
        "for i in range(1,11):\n",
        "    if i%5==0:\n",
        "      continue\n",
        "    else:\n",
        "      print(i)"
      ],
      "execution_count": 0,
      "outputs": [
        {
          "output_type": "stream",
          "text": [
            "1\n",
            "2\n",
            "3\n",
            "4\n",
            "6\n",
            "7\n",
            "8\n",
            "9\n"
          ],
          "name": "stdout"
        }
      ]
    },
    {
      "cell_type": "code",
      "metadata": {
        "id": "IGk9PnmmnlnK",
        "colab_type": "code",
        "outputId": "c46af7c8-ad90-4874-aa59-6d37f78d366d",
        "colab": {
          "base_uri": "https://localhost:8080/",
          "height": 68
        }
      },
      "source": [
        "#username:python\n",
        "#password:abc123\n",
        "while True:\n",
        "  user=input(\"enter your name:\")\n",
        "  if user==\"python\":\n",
        "    pwd=input(\"enter your password:\")\n",
        "    if pwd==\"abc123\":\n",
        "      print(\"login sucess!!\")\n",
        "      break\n",
        "  else:\n",
        "    continue"
      ],
      "execution_count": 0,
      "outputs": [
        {
          "output_type": "stream",
          "text": [
            "enter your name:python\n",
            "enter your password:abc123\n",
            "login sucess!!\n"
          ],
          "name": "stdout"
        }
      ]
    },
    {
      "cell_type": "code",
      "metadata": {
        "id": "W7i2Q84uqP1V",
        "colab_type": "code",
        "colab": {}
      },
      "source": [
        "#pass\n",
        "if 12<34:\n",
        "  pass\n",
        "else:\n",
        "  print(\"else\")"
      ],
      "execution_count": 0,
      "outputs": []
    },
    {
      "cell_type": "markdown",
      "metadata": {
        "id": "AXE9b2DwrLGw",
        "colab_type": "text"
      },
      "source": [
        "#Function\n",
        "Block of statements\n",
        "1. predefined(which are already)\n",
        "     - len(),print(),input(),min(),max()\n",
        "\n",
        "2. user defined(custom function)"
      ]
    },
    {
      "cell_type": "markdown",
      "metadata": {
        "id": "HIB1sFU6sRa5",
        "colab_type": "text"
      },
      "source": [
        "Syntax\n",
        "\n",
        "def function_name(parameter list):\n",
        "        \n",
        "        statements\n",
        "        return"
      ]
    },
    {
      "cell_type": "code",
      "metadata": {
        "id": "fAYsawvPsfGD",
        "colab_type": "code",
        "outputId": "c4840fce-3c2e-4d59-9dcf-66a7dfca515b",
        "colab": {
          "base_uri": "https://localhost:8080/",
          "height": 34
        }
      },
      "source": [
        "def name(username):#function def\n",
        "    print(\"hello\",username)\n",
        "name(\"xyz\")"
      ],
      "execution_count": 0,
      "outputs": [
        {
          "output_type": "stream",
          "text": [
            "hello xyz\n"
          ],
          "name": "stdout"
        }
      ]
    },
    {
      "cell_type": "code",
      "metadata": {
        "id": "yeRJ7GQYuibt",
        "colab_type": "code",
        "outputId": "81d719e2-60cd-4e4b-ae5d-39dc07d78964",
        "colab": {
          "base_uri": "https://localhost:8080/",
          "height": 68
        }
      },
      "source": [
        "def addition(a,b):\n",
        "    return a+b,a-b,a*b,a/b\n",
        "print(addition(10,20))\n",
        "print(addition(100,200))\n",
        "print(addition(110,220))"
      ],
      "execution_count": 0,
      "outputs": [
        {
          "output_type": "stream",
          "text": [
            "(30, -10, 200, 0.5)\n",
            "(300, -100, 20000, 0.5)\n",
            "(330, -110, 24200, 0.5)\n"
          ],
          "name": "stdout"
        }
      ]
    },
    {
      "cell_type": "code",
      "metadata": {
        "id": "SK7IHtVGwV6u",
        "colab_type": "code",
        "outputId": "59222967-f651-4da9-c48b-b031a92c290a",
        "colab": {
          "base_uri": "https://localhost:8080/",
          "height": 34
        }
      },
      "source": [
        "def arithmetic(a,b):\n",
        "    return a+b,a-b,a*b,a/b\n",
        "\n",
        "add,sub,mul,div=arithmetic(10,20)\n",
        "print(sub)"
      ],
      "execution_count": 0,
      "outputs": [
        {
          "output_type": "stream",
          "text": [
            "-10\n"
          ],
          "name": "stdout"
        }
      ]
    },
    {
      "cell_type": "markdown",
      "metadata": {
        "id": "-N3YAtHGyRz3",
        "colab_type": "text"
      },
      "source": [
        "#Different types of arguments\n",
        "1. Required positional value\n",
        "2. Default\n",
        "3. keyword\n",
        "4. variable length"
      ]
    },
    {
      "cell_type": "code",
      "metadata": {
        "id": "UtPL5uj2yXKy",
        "colab_type": "code",
        "outputId": "16c7876a-0779-4414-89a2-f319f9f6965c",
        "colab": {
          "base_uri": "https://localhost:8080/",
          "height": 34
        }
      },
      "source": [
        "def add(a,b):\n",
        "    return(a+b)\n",
        "\n",
        "print(add(10,20))"
      ],
      "execution_count": 0,
      "outputs": [
        {
          "output_type": "stream",
          "text": [
            "30\n"
          ],
          "name": "stdout"
        }
      ]
    },
    {
      "cell_type": "code",
      "metadata": {
        "id": "yOvh2vWwy4lC",
        "colab_type": "code",
        "outputId": "3688ed50-1e7d-482a-921f-64d5883a665c",
        "colab": {
          "base_uri": "https://localhost:8080/",
          "height": 51
        }
      },
      "source": [
        "def add(a,b=100):\n",
        "    return a+b\n",
        "\n",
        "print(add(100))\n",
        "print(add(200,200))"
      ],
      "execution_count": 0,
      "outputs": [
        {
          "output_type": "stream",
          "text": [
            "200\n",
            "400\n"
          ],
          "name": "stdout"
        }
      ]
    },
    {
      "cell_type": "code",
      "metadata": {
        "id": "QUmwjDNJ0eBg",
        "colab_type": "code",
        "outputId": "473e935e-c56f-4ebc-fd10-abe0c4c005e2",
        "colab": {
          "base_uri": "https://localhost:8080/",
          "height": 68
        }
      },
      "source": [
        "#keyword agruments\n",
        "def add(a,b):\n",
        "    print(\"a value:\",a)\n",
        "    print(\"b value:\",b)\n",
        "    return(a+b)\n",
        "add(b=10,a=20)"
      ],
      "execution_count": 0,
      "outputs": [
        {
          "output_type": "stream",
          "text": [
            "a value: 20\n",
            "b value: 10\n"
          ],
          "name": "stdout"
        },
        {
          "output_type": "execute_result",
          "data": {
            "text/plain": [
              "30"
            ]
          },
          "metadata": {
            "tags": []
          },
          "execution_count": 23
        }
      ]
    },
    {
      "cell_type": "code",
      "metadata": {
        "id": "9_oQ0eA21jZd",
        "colab_type": "code",
        "outputId": "3c15d0c5-cb3a-4c7d-98ff-f2191a5a62b0",
        "colab": {
          "base_uri": "https://localhost:8080/",
          "height": 68
        }
      },
      "source": [
        "def add(*a):\n",
        "    return sum(a)\n",
        "\n",
        "print(add(10,20))\n",
        "print(add(10,20,30))\n",
        "print(add(10,20,30,40))"
      ],
      "execution_count": 0,
      "outputs": [
        {
          "output_type": "stream",
          "text": [
            "30\n",
            "60\n",
            "100\n"
          ],
          "name": "stdout"
        }
      ]
    },
    {
      "cell_type": "code",
      "metadata": {
        "id": "wnZTOB0s50SN",
        "colab_type": "code",
        "outputId": "a4ff8696-12bf-4ae4-cf30-e119bdc080f0",
        "colab": {
          "base_uri": "https://localhost:8080/",
          "height": 68
        }
      },
      "source": [
        "def add(*a):\n",
        "    m=1\n",
        "    for i in a:\n",
        "      m=m*i\n",
        "    return m\n",
        "\n",
        "print(add(10,20))\n",
        "print(add(10,20,30))\n",
        "print(add(10,20,30,40))"
      ],
      "execution_count": 0,
      "outputs": [
        {
          "output_type": "stream",
          "text": [
            "200\n",
            "6000\n",
            "240000\n"
          ],
          "name": "stdout"
        }
      ]
    },
    {
      "cell_type": "code",
      "metadata": {
        "id": "DWBofWfr67YX",
        "colab_type": "code",
        "outputId": "eff12b3b-5bdf-4d85-d0e4-014bf7e66e7f",
        "colab": {
          "base_uri": "https://localhost:8080/",
          "height": 51
        }
      },
      "source": [
        "#nested functions:\n",
        "def square(a):\n",
        "    return a*a\n",
        "def cube(x):\n",
        "    return square(x)*x\n",
        "print(square(10))\n",
        "print(cube(10))"
      ],
      "execution_count": 0,
      "outputs": [
        {
          "output_type": "stream",
          "text": [
            "100\n",
            "1000\n"
          ],
          "name": "stdout"
        }
      ]
    },
    {
      "cell_type": "markdown",
      "metadata": {
        "id": "tWJsI08h9mDM",
        "colab_type": "text"
      },
      "source": [
        "#Recursive function:\n",
        "1. factorial of number\n",
        "2. fibanocci series"
      ]
    },
    {
      "cell_type": "markdown",
      "metadata": {
        "id": "kM__BBUS-OkK",
        "colab_type": "text"
      },
      "source": [
        "#Data Structures\n",
        "1. list:\n",
        "     - [] elements seperated by ,\n",
        "     - indexed\n",
        "     - ordered\n",
        "     - Duplicate values\n",
        "     - Mutable\n",
        "     - anytype of values"
      ]
    },
    {
      "cell_type": "code",
      "metadata": {
        "id": "oVnPabqt-5cb",
        "colab_type": "code",
        "outputId": "8b60e6a0-ab5a-4fa9-9291-b3a0328e5b52",
        "colab": {
          "base_uri": "https://localhost:8080/",
          "height": 34
        }
      },
      "source": [
        "list1=[12,23,45,True,\"abc\",12]\n",
        "print(type(list1))"
      ],
      "execution_count": 0,
      "outputs": [
        {
          "output_type": "stream",
          "text": [
            "<class 'list'>\n"
          ],
          "name": "stdout"
        }
      ]
    },
    {
      "cell_type": "code",
      "metadata": {
        "id": "ZnfV0YL7_bP0",
        "colab_type": "code",
        "outputId": "b21fb9ed-a9cc-4ff8-8c61-2f9b4374cfb7",
        "colab": {
          "base_uri": "https://localhost:8080/",
          "height": 119
        }
      },
      "source": [
        "#operators supported by list:+,*,[],[:],in,not in\n",
        "list1=[1,2,3]\n",
        "list2=[10,20,30]\n",
        "print(list1+list2)\n",
        "print(list1*3)\n",
        "print(list1[1])\n",
        "print(list1[1:3])\n",
        "print(2 in list1)\n",
        "print(200 in list1)"
      ],
      "execution_count": 0,
      "outputs": [
        {
          "output_type": "stream",
          "text": [
            "[1, 2, 3, 10, 20, 30]\n",
            "[1, 2, 3, 1, 2, 3, 1, 2, 3]\n",
            "2\n",
            "[2, 3]\n",
            "True\n",
            "False\n"
          ],
          "name": "stdout"
        }
      ]
    },
    {
      "cell_type": "code",
      "metadata": {
        "id": "A0ngtiBhBIQI",
        "colab_type": "code",
        "outputId": "b7754f92-38db-4e0d-c684-56d283f632b7",
        "colab": {
          "base_uri": "https://localhost:8080/",
          "height": 102
        }
      },
      "source": [
        "list1=[1,2,3,40]\n",
        "s1=\"python\"\n",
        "print(len(list1))\n",
        "print(min(list1))\n",
        "print(max(list1))\n",
        "list2=list(s1)\n",
        "print(list2)\n",
        "list1[-1]=100\n",
        "print(list1)"
      ],
      "execution_count": 0,
      "outputs": [
        {
          "output_type": "stream",
          "text": [
            "4\n",
            "1\n",
            "40\n",
            "['p', 'y', 't', 'h', 'o', 'n']\n",
            "[1, 2, 3, 100]\n"
          ],
          "name": "stdout"
        }
      ]
    }
  ]
}