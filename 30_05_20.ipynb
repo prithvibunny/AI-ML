{
  "nbformat": 4,
  "nbformat_minor": 0,
  "metadata": {
    "colab": {
      "name": "30-05-20.ipynb",
      "provenance": [],
      "collapsed_sections": []
    },
    "kernelspec": {
      "name": "python3",
      "display_name": "Python 3"
    }
  },
  "cells": [
    {
      "cell_type": "code",
      "metadata": {
        "id": "NVu3Yo5HvLiA",
        "colab_type": "code",
        "colab": {
          "base_uri": "https://localhost:8080/",
          "height": 34
        },
        "outputId": "a71d5a34-95d2-414d-8349-29e444528873"
      },
      "source": [
        "#Recursive functions\n",
        "#factorial of number\n",
        "def Factorial(n):\n",
        "    if n==0 or n==1:\n",
        "      return 1\n",
        "    else:\n",
        "      return n*Factorial(n-1)\n",
        "Factorial(5)"
      ],
      "execution_count": 4,
      "outputs": [
        {
          "output_type": "execute_result",
          "data": {
            "text/plain": [
              "120"
            ]
          },
          "metadata": {
            "tags": []
          },
          "execution_count": 4
        }
      ]
    },
    {
      "cell_type": "code",
      "metadata": {
        "id": "PTBaBOMp3QDY",
        "colab_type": "code",
        "colab": {
          "base_uri": "https://localhost:8080/",
          "height": 68
        },
        "outputId": "0ec27b3c-3f4c-4e2d-eb9f-1229cc291e42"
      },
      "source": [
        "#lower bound and upper bound\n",
        "def display(lb,ub):\n",
        "    if lb>ub:\n",
        "       return\n",
        "    else:\n",
        "       print(lb,end=\" \")\n",
        "       display(lb+1,ub)\n",
        "\n",
        "lb=int(input())\n",
        "ub=int(input())\n",
        "display(lb,ub)"
      ],
      "execution_count": 6,
      "outputs": [
        {
          "output_type": "stream",
          "text": [
            "1\n",
            "10\n",
            "1 2 3 4 5 6 7 8 9 10 "
          ],
          "name": "stdout"
        }
      ]
    },
    {
      "cell_type": "code",
      "metadata": {
        "id": "VWBMTB8052xA",
        "colab_type": "code",
        "colab": {
          "base_uri": "https://localhost:8080/",
          "height": 51
        },
        "outputId": "74c801cf-5021-42c0-bfcc-4a0ff8276b95"
      },
      "source": [
        "#Fibanocci series:0,1,1,2,3,5,8,13\n",
        "import time\n",
        "def recur_fibo(n):\n",
        "    if n==1:\n",
        "       return 0\n",
        "    elif n==2:\n",
        "       return 1\n",
        "    else:\n",
        "       return recur_fibo(n-1)+recur_fibo(n-2)\n",
        "prev=time.time()\n",
        "print(recur_fibo(10))\n",
        "print(time.time()-prev)"
      ],
      "execution_count": 18,
      "outputs": [
        {
          "output_type": "stream",
          "text": [
            "34\n",
            "0.00014209747314453125\n"
          ],
          "name": "stdout"
        }
      ]
    },
    {
      "cell_type": "code",
      "metadata": {
        "id": "1vmzwb588RRC",
        "colab_type": "code",
        "colab": {
          "base_uri": "https://localhost:8080/",
          "height": 51
        },
        "outputId": "98c091b7-f00e-44b6-c8a1-ccacc4465265"
      },
      "source": [
        "import time\n",
        "fibs=[0,1]\n",
        "def Fibanocci(n):\n",
        "    if n<=len(fibs):\n",
        "       return fibs[n-1]\n",
        "    else:\n",
        "       fibs.append(fibs[len(fibs)-1]+fibs[len(fibs)-2])\n",
        "       return Fibanocci(n)\n",
        "prev=time.time()\n",
        "print(Fibanocci(20))\n",
        "print(time.time()-prev)"
      ],
      "execution_count": 20,
      "outputs": [
        {
          "output_type": "stream",
          "text": [
            "4181\n",
            "0.002522706985473633\n"
          ],
          "name": "stdout"
        }
      ]
    },
    {
      "cell_type": "code",
      "metadata": {
        "id": "Q1rN4S0jBmYv",
        "colab_type": "code",
        "colab": {
          "base_uri": "https://localhost:8080/",
          "height": 85
        },
        "outputId": "50cd5d4f-f962-4b8a-b94f-eca436b68859"
      },
      "source": [
        "#Built-in functions:len(),min(),max(),list()\n",
        "list1=[12,34,45,6,\"str\",True]\n",
        "list2=[34,45,6.6,45,[12,23,34,45,[23,34,45,6]]]\n",
        "string=\"python\"\n",
        "print(\"length of list:\",len(list1))\n",
        "print(list(string))\n",
        "print(list1[4][1])\n",
        "print(list2[4][4][3])"
      ],
      "execution_count": 33,
      "outputs": [
        {
          "output_type": "stream",
          "text": [
            "length of list: 6\n",
            "['p', 'y', 't', 'h', 'o', 'n']\n",
            "t\n",
            "6\n"
          ],
          "name": "stdout"
        }
      ]
    },
    {
      "cell_type": "markdown",
      "metadata": {
        "id": "zq6ZRG8sEhZ-",
        "colab_type": "text"
      },
      "source": [
        "#Built in methods\n",
        "1. append\n",
        "2. insert\n",
        "3. extend"
      ]
    },
    {
      "cell_type": "code",
      "metadata": {
        "id": "bpN1cjzsEQLf",
        "colab_type": "code",
        "colab": {
          "base_uri": "https://localhost:8080/",
          "height": 51
        },
        "outputId": "e949bbfe-bae3-4a54-87d5-4c03fbec1a5a"
      },
      "source": [
        "#append\n",
        "list1=[1,2,3,4]\n",
        "list1.append(6)\n",
        "print(list1)\n",
        "list1.append(7)\n",
        "print(list1)"
      ],
      "execution_count": 34,
      "outputs": [
        {
          "output_type": "stream",
          "text": [
            "[1, 2, 3, 4, 6]\n",
            "[1, 2, 3, 4, 6, 7]\n"
          ],
          "name": "stdout"
        }
      ]
    },
    {
      "cell_type": "code",
      "metadata": {
        "id": "_IXxxTV3EwpP",
        "colab_type": "code",
        "colab": {
          "base_uri": "https://localhost:8080/",
          "height": 34
        },
        "outputId": "4590fd25-40e7-4aea-ef57-52ee55849915"
      },
      "source": [
        "#insert\n",
        "list1.insert(2,100)\n",
        "print(list1)"
      ],
      "execution_count": 35,
      "outputs": [
        {
          "output_type": "stream",
          "text": [
            "[1, 2, 100, 3, 4, 6, 7]\n"
          ],
          "name": "stdout"
        }
      ]
    },
    {
      "cell_type": "code",
      "metadata": {
        "id": "D50m3NroFJ7H",
        "colab_type": "code",
        "colab": {
          "base_uri": "https://localhost:8080/",
          "height": 34
        },
        "outputId": "52dd7294-fbc0-4a4f-b9a2-b102ddeaceee"
      },
      "source": [
        "#extend\n",
        "list1.extend([8,9,10])\n",
        "print(list1)"
      ],
      "execution_count": 36,
      "outputs": [
        {
          "output_type": "stream",
          "text": [
            "[1, 2, 100, 3, 4, 6, 7, 8, 9, 10]\n"
          ],
          "name": "stdout"
        }
      ]
    },
    {
      "cell_type": "code",
      "metadata": {
        "id": "E8YOKl9LFm-F",
        "colab_type": "code",
        "colab": {
          "base_uri": "https://localhost:8080/",
          "height": 34
        },
        "outputId": "51ad1300-d165-4485-d611-557dcc75891f"
      },
      "source": [
        "#Removing elements\n",
        "list1.pop(2)\n",
        "print(list1)"
      ],
      "execution_count": 38,
      "outputs": [
        {
          "output_type": "stream",
          "text": [
            "[1, 2, 3, 4, 6, 7, 8, 9]\n"
          ],
          "name": "stdout"
        }
      ]
    },
    {
      "cell_type": "code",
      "metadata": {
        "id": "jwYMpTL9Ggi4",
        "colab_type": "code",
        "colab": {
          "base_uri": "https://localhost:8080/",
          "height": 34
        },
        "outputId": "eeb78304-edf3-4714-bba0-40342907543e"
      },
      "source": [
        "#remove\n",
        "list1.remove(9)\n",
        "print(list1)"
      ],
      "execution_count": 39,
      "outputs": [
        {
          "output_type": "stream",
          "text": [
            "[1, 2, 3, 4, 6, 7, 8]\n"
          ],
          "name": "stdout"
        }
      ]
    },
    {
      "cell_type": "code",
      "metadata": {
        "id": "ajsvEQKhGwTA",
        "colab_type": "code",
        "colab": {
          "base_uri": "https://localhost:8080/",
          "height": 34
        },
        "outputId": "54ee3dd3-1bb8-406d-fc4f-5db2b5ba655c"
      },
      "source": [
        "#clear\n",
        "list1.clear()\n",
        "list1"
      ],
      "execution_count": 40,
      "outputs": [
        {
          "output_type": "execute_result",
          "data": {
            "text/plain": [
              "[]"
            ]
          },
          "metadata": {
            "tags": []
          },
          "execution_count": 40
        }
      ]
    },
    {
      "cell_type": "code",
      "metadata": {
        "id": "1N4yqZZrG8Uc",
        "colab_type": "code",
        "colab": {
          "base_uri": "https://localhost:8080/",
          "height": 51
        },
        "outputId": "7a9b3b34-5a46-404c-e9e8-befbb14af877"
      },
      "source": [
        "list1=[23,34,56,76,68,79,80,78,76]\n",
        "print(list1.index(34))\n",
        "print(list1.count(76))"
      ],
      "execution_count": 41,
      "outputs": [
        {
          "output_type": "stream",
          "text": [
            "1\n",
            "2\n"
          ],
          "name": "stdout"
        }
      ]
    },
    {
      "cell_type": "code",
      "metadata": {
        "id": "DZ2D4Vf8HZvu",
        "colab_type": "code",
        "colab": {
          "base_uri": "https://localhost:8080/",
          "height": 34
        },
        "outputId": "2c482c46-4b11-4b00-9785-4b7bfcb4ca95"
      },
      "source": [
        "list1.sort()\n",
        "print(list1)"
      ],
      "execution_count": 42,
      "outputs": [
        {
          "output_type": "stream",
          "text": [
            "[23, 34, 56, 68, 76, 76, 78, 79, 80]\n"
          ],
          "name": "stdout"
        }
      ]
    },
    {
      "cell_type": "code",
      "metadata": {
        "id": "1pCJ9l3HINrU",
        "colab_type": "code",
        "colab": {
          "base_uri": "https://localhost:8080/",
          "height": 51
        },
        "outputId": "b70632ad-20cd-45a7-f158-1076854528a8"
      },
      "source": [
        "list1.sort(reverse=True)\n",
        "print(list1)\n",
        "#ascending\n",
        "list1.sort(reverse=False)\n",
        "print(list1)\n"
      ],
      "execution_count": 43,
      "outputs": [
        {
          "output_type": "stream",
          "text": [
            "[80, 79, 78, 76, 76, 68, 56, 34, 23]\n",
            "[23, 34, 56, 68, 76, 76, 78, 79, 80]\n"
          ],
          "name": "stdout"
        }
      ]
    },
    {
      "cell_type": "code",
      "metadata": {
        "id": "DA_VW3PdItaI",
        "colab_type": "code",
        "colab": {
          "base_uri": "https://localhost:8080/",
          "height": 34
        },
        "outputId": "4c26efa7-f02e-480e-9017-54552b6fec0d"
      },
      "source": [
        "#reverse\n",
        "list1.reverse()\n",
        "print(list1)"
      ],
      "execution_count": 45,
      "outputs": [
        {
          "output_type": "stream",
          "text": [
            "[80, 79, 78, 76, 76, 68, 56, 34, 23]\n"
          ],
          "name": "stdout"
        }
      ]
    },
    {
      "cell_type": "code",
      "metadata": {
        "id": "JLe2RKCXI_iJ",
        "colab_type": "code",
        "colab": {
          "base_uri": "https://localhost:8080/",
          "height": 68
        },
        "outputId": "7ddb3412-ad1c-48d3-8b4c-0d6295ae7796"
      },
      "source": [
        "list1=[1,2,3,4,5]\n",
        "list2=[]\n",
        "list3=[]\n",
        "list2=list1\n",
        "print(list2)\n",
        "list3=list1.copy()\n",
        "print(list3)\n",
        "list1.append(6)\n",
        "list1.append(7)\n",
        "print(list1,list2,list3)"
      ],
      "execution_count": 48,
      "outputs": [
        {
          "output_type": "stream",
          "text": [
            "[1, 2, 3, 4, 5]\n",
            "[1, 2, 3, 4, 5]\n",
            "[1, 2, 3, 4, 5, 6, 7] [1, 2, 3, 4, 5, 6, 7] [1, 2, 3, 4, 5]\n"
          ],
          "name": "stdout"
        }
      ]
    },
    {
      "cell_type": "markdown",
      "metadata": {
        "id": "1lIZq6cONKfD",
        "colab_type": "text"
      },
      "source": [
        "#modes\n",
        "1. write\n",
        "2. read\n",
        "3. append\n",
        "4. ne file creation\n"
      ]
    },
    {
      "cell_type": "markdown",
      "metadata": {
        "id": "wnFlyoL4NBRI",
        "colab_type": "text"
      },
      "source": [
        "1. open\n",
        "2. close"
      ]
    },
    {
      "cell_type": "code",
      "metadata": {
        "id": "ZuHnVgc5NEIn",
        "colab_type": "code",
        "colab": {}
      },
      "source": [
        "f=open(\"sample.txt\",\"w\")\n",
        "f.write(\"hello!!!\")\n",
        "f.close()"
      ],
      "execution_count": 0,
      "outputs": []
    },
    {
      "cell_type": "code",
      "metadata": {
        "id": "zxNz-NFqN25e",
        "colab_type": "code",
        "colab": {
          "base_uri": "https://localhost:8080/",
          "height": 34
        },
        "outputId": "a51d0bc4-692e-4bea-b582-8b40f1d7d386"
      },
      "source": [
        "f=open(\"sample.txt\",\"r\")\n",
        "data=f.read()\n",
        "print(data)\n",
        "f.close()"
      ],
      "execution_count": 52,
      "outputs": [
        {
          "output_type": "stream",
          "text": [
            "hello!!!\n"
          ],
          "name": "stdout"
        }
      ]
    },
    {
      "cell_type": "code",
      "metadata": {
        "id": "7IKB--bGORte",
        "colab_type": "code",
        "colab": {}
      },
      "source": [
        "f=open(\"sample.txt\",\"a\")\n",
        "s='''\\nhow are you?\n",
        "'''\n",
        "f.write(s)\n",
        "f.close()\n"
      ],
      "execution_count": 0,
      "outputs": []
    },
    {
      "cell_type": "code",
      "metadata": {
        "id": "GGgN1eQLOwAc",
        "colab_type": "code",
        "colab": {
          "base_uri": "https://localhost:8080/",
          "height": 102
        },
        "outputId": "d664a46f-70ee-45ee-cad7-c165d2b293e2"
      },
      "source": [
        "f=open(\"sample.txt\",\"r\")\n",
        "data=f.read()\n",
        "print(data)\n",
        "f.close"
      ],
      "execution_count": 56,
      "outputs": [
        {
          "output_type": "stream",
          "text": [
            "hello!!!how are you?\n",
            "\n",
            "how are you?\n",
            "\n"
          ],
          "name": "stdout"
        },
        {
          "output_type": "execute_result",
          "data": {
            "text/plain": [
              "<function TextIOWrapper.close>"
            ]
          },
          "metadata": {
            "tags": []
          },
          "execution_count": 56
        }
      ]
    }
  ]
}