{
  "nbformat": 4,
  "nbformat_minor": 0,
  "metadata": {
    "colab": {
      "name": "28-05-20.ipynb",
      "provenance": []
    },
    "kernelspec": {
      "name": "python3",
      "display_name": "Python 3"
    }
  },
  "cells": [
    {
      "cell_type": "code",
      "metadata": {
        "id": "daLcMvr2bHPr",
        "colab_type": "code",
        "colab": {}
      },
      "source": [
        ""
      ],
      "execution_count": 0,
      "outputs": []
    },
    {
      "cell_type": "markdown",
      "metadata": {
        "id": "t-BDVWz8bRB2",
        "colab_type": "text"
      },
      "source": [
        "#Strings\n",
        "1. \"\" or ''(characters)--'a'\n",
        "2. immutable-->we cannot any edges"
      ]
    },
    {
      "cell_type": "code",
      "metadata": {
        "id": "Qr8DlUXkcAb0",
        "colab_type": "code",
        "colab": {
          "base_uri": "https://localhost:8080/",
          "height": 51
        },
        "outputId": "6fbbe678-17a5-43ef-b783-f78017097cc0"
      },
      "source": [
        "s1=input(\"enter a string:\")\n",
        "s2='good afternoon'\n",
        "print(type(s1),type(s2))"
      ],
      "execution_count": 2,
      "outputs": [
        {
          "output_type": "stream",
          "text": [
            "enter a string:hello\n",
            "<class 'str'> <class 'str'>\n"
          ],
          "name": "stdout"
        }
      ]
    },
    {
      "cell_type": "code",
      "metadata": {
        "id": "4ecq0bhrcTRr",
        "colab_type": "code",
        "colab": {
          "base_uri": "https://localhost:8080/",
          "height": 102
        },
        "outputId": "1189e355-6a73-4e80-d692-2a030d934847"
      },
      "source": [
        "#operators:+,*(repetition),[](slice),[:](slice range)\n",
        "print(s1+s2)\n",
        "print(s1*3)\n",
        "print(s1[4])\n",
        "print(s1[-1])\n",
        "print(s1[2:])"
      ],
      "execution_count": 6,
      "outputs": [
        {
          "output_type": "stream",
          "text": [
            "hellogood afternoon\n",
            "hellohellohello\n",
            "o\n",
            "o\n",
            "llo\n"
          ],
          "name": "stdout"
        }
      ]
    },
    {
      "cell_type": "code",
      "metadata": {
        "id": "3hDW16TsfYwh",
        "colab_type": "code",
        "colab": {
          "base_uri": "https://localhost:8080/",
          "height": 51
        },
        "outputId": "7fbfd111-e8e4-48f8-97e2-1881b80bf987"
      },
      "source": [
        "print(s1[0:5])\n",
        "print(s1[:])"
      ],
      "execution_count": 7,
      "outputs": [
        {
          "output_type": "stream",
          "text": [
            "hello\n",
            "hello\n"
          ],
          "name": "stdout"
        }
      ]
    },
    {
      "cell_type": "code",
      "metadata": {
        "id": "rfE5v-pyf7-E",
        "colab_type": "code",
        "colab": {
          "base_uri": "https://localhost:8080/",
          "height": 34
        },
        "outputId": "67d4f3ea-46eb-4ae7-d617-966a4796db67"
      },
      "source": [
        "#print alternate characters of string\n",
        "print(s1[::2])\n"
      ],
      "execution_count": 8,
      "outputs": [
        {
          "output_type": "stream",
          "text": [
            "hlo\n"
          ],
          "name": "stdout"
        }
      ]
    },
    {
      "cell_type": "code",
      "metadata": {
        "id": "35RPO9RsgPIW",
        "colab_type": "code",
        "colab": {
          "base_uri": "https://localhost:8080/",
          "height": 51
        },
        "outputId": "37d7c3f7-f691-44a6-f2ff-8eed48d5752f"
      },
      "source": [
        "#accept a string from the user and check whether it is palindrome or not\n",
        "s3=input(\"enter a string:\")\n",
        "if s3==s3[::-1]:\n",
        "    print(\"the given string is plaindrome\")\n",
        "else:\n",
        "    print(\"the given string is not a palindrome\")"
      ],
      "execution_count": 13,
      "outputs": [
        {
          "output_type": "stream",
          "text": [
            "enter a string:madam\n",
            "the given string is plaindrome\n"
          ],
          "name": "stdout"
        }
      ]
    },
    {
      "cell_type": "code",
      "metadata": {
        "id": "nrN73EbHiCG0",
        "colab_type": "code",
        "colab": {
          "base_uri": "https://localhost:8080/",
          "height": 51
        },
        "outputId": "688275c6-5355-4ba8-bb4a-dd8b44571a97"
      },
      "source": [
        "n=int(input(\"enter a string:\"))\n",
        "if str(n)==str(n)[::-1]:\n",
        "    print(\"the given string is plaindrome\")\n",
        "else:\n",
        "    print(\"the given string is not a palindrome\")"
      ],
      "execution_count": 14,
      "outputs": [
        {
          "output_type": "stream",
          "text": [
            "enter a string:121\n",
            "the given string is plaindrome\n"
          ],
          "name": "stdout"
        }
      ]
    },
    {
      "cell_type": "code",
      "metadata": {
        "id": "eHAvbllWivPx",
        "colab_type": "code",
        "colab": {
          "base_uri": "https://localhost:8080/",
          "height": 85
        },
        "outputId": "45c5de68-7f74-4199-af95-cbac4728f980"
      },
      "source": [
        "s4=\"python\"\n",
        "print(\"on\" in s4)\n",
        "print(\"xyz\" in s4)\n",
        "print(\"on\" not in s4)\n",
        "print(\"xyz\" not in s4)"
      ],
      "execution_count": 15,
      "outputs": [
        {
          "output_type": "stream",
          "text": [
            "True\n",
            "False\n",
            "False\n",
            "True\n"
          ],
          "name": "stdout"
        }
      ]
    },
    {
      "cell_type": "markdown",
      "metadata": {
        "id": "Fb36aVFhkH4f",
        "colab_type": "text"
      },
      "source": [
        "#Built-in function:\n",
        "1. len() -->length of the string\n",
        "2. max()\n",
        "3. min()\n",
        "4. str() -->converting any datatype to string\n"
      ]
    },
    {
      "cell_type": "code",
      "metadata": {
        "id": "fDBPcQgNkJJr",
        "colab_type": "code",
        "colab": {
          "base_uri": "https://localhost:8080/",
          "height": 102
        },
        "outputId": "48ad94e9-95c6-4f06-93ef-fd62b5e84e9f"
      },
      "source": [
        "s=\"hello\"\n",
        "s1=\"abc123\"\n",
        "print(len(s))\n",
        "print(max(s))\n",
        "print(min(s))\n",
        "print(max(s1))\n",
        "print(min(s1))"
      ],
      "execution_count": 17,
      "outputs": [
        {
          "output_type": "stream",
          "text": [
            "5\n",
            "o\n",
            "e\n",
            "c\n",
            "1\n"
          ],
          "name": "stdout"
        }
      ]
    },
    {
      "cell_type": "markdown",
      "metadata": {
        "id": "T43L1_pHmP3E",
        "colab_type": "text"
      },
      "source": [
        ""
      ]
    },
    {
      "cell_type": "code",
      "metadata": {
        "colab_type": "code",
        "id": "611wshjFmUBj",
        "colab": {}
      },
      "source": [
        "#Built-in methods:\n",
        "1. captalize()\n",
        "2. isalpha()\n",
        "3. isdigit()\n",
        "4. isalnum()\n",
        "5. islower()\n",
        "6. upper()\n",
        "7. lower()\n",
        "8. swapcase()\n",
        "\n"
      ],
      "execution_count": 0,
      "outputs": []
    },
    {
      "cell_type": "code",
      "metadata": {
        "id": "yN_coKh7mXdj",
        "colab_type": "code",
        "colab": {
          "base_uri": "https://localhost:8080/",
          "height": 68
        },
        "outputId": "be408d22-5e72-4f81-da33-c3fd4d39d659"
      },
      "source": [
        "s=\"hello\"\n",
        "print(len(s))#function name(object name)\n",
        "print(s.capitalize())#object name.method name()\n",
        "print(s)"
      ],
      "execution_count": 18,
      "outputs": [
        {
          "output_type": "stream",
          "text": [
            "5\n",
            "Hello\n",
            "hello\n"
          ],
          "name": "stdout"
        }
      ]
    },
    {
      "cell_type": "code",
      "metadata": {
        "id": "qSfXC79Pns1G",
        "colab_type": "code",
        "colab": {
          "base_uri": "https://localhost:8080/",
          "height": 170
        },
        "outputId": "47a531b5-fabe-4ce0-b25e-fd836c231ff8"
      },
      "source": [
        "s1=\"hello\"\n",
        "s2=\"abc123\"\n",
        "s3=\"123\"\n",
        "print(s1.isalpha())\n",
        "print(s1.isdigit())\n",
        "print(s1.isalnum())\n",
        "print(s2.isalpha())\n",
        "print(s2.isdigit())\n",
        "print(s2.isalnum())\n",
        "print(s3.isalpha())\n",
        "print(s3.isdigit())\n",
        "print(s3.isalnum())"
      ],
      "execution_count": 20,
      "outputs": [
        {
          "output_type": "stream",
          "text": [
            "True\n",
            "False\n",
            "True\n",
            "False\n",
            "False\n",
            "True\n",
            "False\n",
            "True\n",
            "True\n"
          ],
          "name": "stdout"
        }
      ]
    },
    {
      "cell_type": "code",
      "metadata": {
        "id": "Nfi4BEP9qTgU",
        "colab_type": "code",
        "colab": {
          "base_uri": "https://localhost:8080/",
          "height": 85
        },
        "outputId": "796a79c3-6c03-4698-8c28-b278b3393759"
      },
      "source": [
        "s1=\"python\"\n",
        "s2=\"PYTHON\"\n",
        "print(s1.isupper())\n",
        "print(s2.isupper())\n",
        "print(s1.islower())\n",
        "print(s2.islower())"
      ],
      "execution_count": 22,
      "outputs": [
        {
          "output_type": "stream",
          "text": [
            "False\n",
            "True\n",
            "True\n",
            "False\n"
          ],
          "name": "stdout"
        }
      ]
    },
    {
      "cell_type": "code",
      "metadata": {
        "id": "iziQx2QcrzoG",
        "colab_type": "code",
        "colab": {
          "base_uri": "https://localhost:8080/",
          "height": 68
        },
        "outputId": "84722d00-70a7-43ea-b6cd-7dfb2d90ce35"
      },
      "source": [
        "print(s1.upper())\n",
        "print(s1.lower())\n",
        "print(s1.swapcase())"
      ],
      "execution_count": 23,
      "outputs": [
        {
          "output_type": "stream",
          "text": [
            "PYTHON\n",
            "python\n",
            "PYTHON\n"
          ],
          "name": "stdout"
        }
      ]
    },
    {
      "cell_type": "code",
      "metadata": {
        "id": "II4cI1dFsWcg",
        "colab_type": "code",
        "colab": {
          "base_uri": "https://localhost:8080/",
          "height": 34
        },
        "outputId": "a12421dc-5040-44bf-b683-f2f6f374b7ec"
      },
      "source": [
        "s=\"PYthON\"\n",
        "print(s.swapcase())#pyTHon"
      ],
      "execution_count": 24,
      "outputs": [
        {
          "output_type": "stream",
          "text": [
            "pyTHon\n"
          ],
          "name": "stdout"
        }
      ]
    },
    {
      "cell_type": "code",
      "metadata": {
        "id": "lwtq8uGSstMN",
        "colab_type": "code",
        "colab": {
          "base_uri": "https://localhost:8080/",
          "height": 34
        },
        "outputId": "8214e309-fb27-46f0-e413-f401b61c2591"
      },
      "source": [
        "s=\"abc abc abc\"\n",
        "s.count(\"abc\")"
      ],
      "execution_count": 25,
      "outputs": [
        {
          "output_type": "execute_result",
          "data": {
            "text/plain": [
              "3"
            ]
          },
          "metadata": {
            "tags": []
          },
          "execution_count": 25
        }
      ]
    },
    {
      "cell_type": "code",
      "metadata": {
        "id": "BQCd_8GVtC39",
        "colab_type": "code",
        "colab": {
          "base_uri": "https://localhost:8080/",
          "height": 51
        },
        "outputId": "290e01ea-b55f-4e8f-dfdd-9f8529b7d851"
      },
      "source": [
        "#split()-->return type is list\n",
        "s.split()\n",
        "print(s.split())\n",
        "s1=\"a,b,c,d\"\n",
        "print(s1.split(\",\"))"
      ],
      "execution_count": 28,
      "outputs": [
        {
          "output_type": "stream",
          "text": [
            "['abc', 'abc', 'abc']\n",
            "['a', 'b', 'c', 'd']\n"
          ],
          "name": "stdout"
        }
      ]
    },
    {
      "cell_type": "code",
      "metadata": {
        "id": "eeq8GkbLtWXX",
        "colab_type": "code",
        "colab": {
          "base_uri": "https://localhost:8080/",
          "height": 34
        },
        "outputId": "0345822a-9a81-424d-832a-cc638390a8a2"
      },
      "source": [
        "#replace -->\n",
        "s=\"abc\"\n",
        "s=s.replace('b','z')\n",
        "print(s)"
      ],
      "execution_count": 31,
      "outputs": [
        {
          "output_type": "stream",
          "text": [
            "azc\n"
          ],
          "name": "stdout"
        }
      ]
    },
    {
      "cell_type": "code",
      "metadata": {
        "id": "s0d209-vvawt",
        "colab_type": "code",
        "colab": {
          "base_uri": "https://localhost:8080/",
          "height": 68
        },
        "outputId": "efe6a9da-b052-41d2-8f5c-f7bf7d252ce7"
      },
      "source": [
        "#accept a number(n) from the user and remove nth position\n",
        "#character from the string\n",
        "#n=3\n",
        "#s=abcabc\n",
        "#output:ababc\n",
        "n=int(input(\"enter position:\"))\n",
        "s=input(\"enter a string:\")\n",
        "print(s.replace(s[n-1],\"\",1))"
      ],
      "execution_count": 33,
      "outputs": [
        {
          "output_type": "stream",
          "text": [
            "enter position:3\n",
            "enter a string:abcabc\n",
            "ababc\n"
          ],
          "name": "stdout"
        }
      ]
    },
    {
      "cell_type": "markdown",
      "metadata": {
        "id": "ZD_pYbsWzAaP",
        "colab_type": "text"
      },
      "source": [
        "#for loop:\n",
        "1. for loop with range() function\n",
        "2. for loop wth iterable object\n"
      ]
    },
    {
      "cell_type": "markdown",
      "metadata": {
        "id": "PpUjkkmtzoEB",
        "colab_type": "text"
      },
      "source": [
        ""
      ]
    },
    {
      "cell_type": "code",
      "metadata": {
        "id": "RW4beMHvz4px",
        "colab_type": "code",
        "colab": {
          "base_uri": "https://localhost:8080/",
          "height": 51
        },
        "outputId": "603074c7-d506-42a4-9676-5b0b7144a9ca"
      },
      "source": [
        "#print 1-n numbers on the screen\n",
        "n=10\n",
        "for i in range(1,n+1):\n",
        "  print(i,end=\" \")\n",
        "print()\n",
        "i=1\n",
        "while i<=n:\n",
        "  print(i,end=\" \")\n",
        "  i+=1"
      ],
      "execution_count": 35,
      "outputs": [
        {
          "output_type": "stream",
          "text": [
            "1 2 3 4 5 6 7 8 9 10 \n",
            "1 2 3 4 5 6 7 8 9 10 "
          ],
          "name": "stdout"
        }
      ]
    },
    {
      "cell_type": "code",
      "metadata": {
        "id": "umKa-XZh1hW7",
        "colab_type": "code",
        "colab": {
          "base_uri": "https://localhost:8080/",
          "height": 323
        },
        "outputId": "02bdae5f-8cf7-4ee2-a9c6-d7eed04d042f"
      },
      "source": [
        "s=\"python\"\n",
        "for i in s:\n",
        "   print(i)\n",
        "  \n",
        "#using while loop all the characters of your string vert\n",
        "i=0\n",
        "while i<len(s):\n",
        "  print(s[i])\n",
        "  i+=1\n",
        "\n",
        "#using for loop but you should not use iterale object\n",
        "for j in range(0,len(s)):\n",
        "    print(s[j])\n"
      ],
      "execution_count": 38,
      "outputs": [
        {
          "output_type": "stream",
          "text": [
            "p\n",
            "y\n",
            "t\n",
            "h\n",
            "o\n",
            "n\n",
            "p\n",
            "y\n",
            "t\n",
            "h\n",
            "o\n",
            "n\n",
            "p\n",
            "y\n",
            "t\n",
            "h\n",
            "o\n",
            "n\n"
          ],
          "name": "stdout"
        }
      ]
    },
    {
      "cell_type": "markdown",
      "metadata": {
        "id": "OoRUfsfG5Dey",
        "colab_type": "text"
      },
      "source": [
        "1. accept a string from the user and count no.of vowels,consonants and special characters.\n",
        "2. count the no.of pairs of a in the given string\n",
        "   \n",
        "   string--> \"abbaaccbbaaa\"\n",
        "   \n",
        "   output--> 2\n",
        "3. string-->\"((((()()()))))()\"\n",
        "   \n",
        "   output-->8"
      ]
    },
    {
      "cell_type": "code",
      "metadata": {
        "id": "gggmYyiX5lss",
        "colab_type": "code",
        "colab": {}
      },
      "source": [
        ""
      ],
      "execution_count": 0,
      "outputs": []
    }
  ]
}