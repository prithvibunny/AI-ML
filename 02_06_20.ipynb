{
  "nbformat": 4,
  "nbformat_minor": 0,
  "metadata": {
    "colab": {
      "name": "02-06-20.ipynb",
      "provenance": []
    },
    "kernelspec": {
      "name": "python3",
      "display_name": "Python 3"
    }
  },
  "cells": [
    {
      "cell_type": "code",
      "metadata": {
        "id": "DKCQagt_IZKn",
        "colab_type": "code",
        "colab": {}
      },
      "source": [
        "#folder\n",
        "import os\n",
        "import string\n",
        "import random\n",
        "os.mkdir(\"python class\")\n",
        "for i in range(5):\n",
        "    file_name=\n",
        "    open(file_name,\"W\")\n",
        "    data=\" \"\n",
        "    data=data+random.choice(string.ascii_letters)\n",
        "    f.write(data)\n",
        "    f.close()"
      ],
      "execution_count": 0,
      "outputs": []
    },
    {
      "cell_type": "code",
      "metadata": {
        "id": "PzOnU3M7WoQM",
        "colab_type": "code",
        "colab": {
          "base_uri": "https://localhost:8080/",
          "height": 34
        },
        "outputId": "65f3a086-6dfd-478b-d046-fd27128ab477"
      },
      "source": [
        "#create another list with even elements of list1\n",
        "list1=list(range(1,11))\n",
        "list2=[]\n",
        "for i in list1:\n",
        "    if i%2==0:\n",
        "        list2.append(i)\n",
        "print(list2)"
      ],
      "execution_count": 10,
      "outputs": [
        {
          "output_type": "stream",
          "text": [
            "[2, 4, 6, 8, 10]\n"
          ],
          "name": "stdout"
        }
      ]
    },
    {
      "cell_type": "code",
      "metadata": {
        "id": "vOT9RM2hXebs",
        "colab_type": "code",
        "colab": {
          "base_uri": "https://localhost:8080/",
          "height": 34
        },
        "outputId": "a01a340c-b72e-44b9-9136-3cfea7646a02"
      },
      "source": [
        "#list comprehension\n",
        "list3=[i for i in list1 if i%2==0]\n",
        "print(list3)"
      ],
      "execution_count": 11,
      "outputs": [
        {
          "output_type": "stream",
          "text": [
            "[2, 4, 6, 8, 10]\n"
          ],
          "name": "stdout"
        }
      ]
    },
    {
      "cell_type": "code",
      "metadata": {
        "id": "rKHuRVz7Yh00",
        "colab_type": "code",
        "colab": {
          "base_uri": "https://localhost:8080/",
          "height": 51
        },
        "outputId": "a7ffcd27-5f62-4e4b-80ee-24b84267dd2f"
      },
      "source": [
        "#input:\"Hello 12345\"\n",
        "#outut:['1','2','3','4','5']5\n",
        "string=input(\"enter a string\")\n",
        "list4=[ch for ch in string if ch.isdigit()]\n",
        "print(list4,len(list4))"
      ],
      "execution_count": 12,
      "outputs": [
        {
          "output_type": "stream",
          "text": [
            "enter a stringHello 12345\n",
            "['1', '2', '3', '4', '5'] 5\n"
          ],
          "name": "stdout"
        }
      ]
    },
    {
      "cell_type": "code",
      "metadata": {
        "id": "qVA8K8oDaocD",
        "colab_type": "code",
        "colab": {
          "base_uri": "https://localhost:8080/",
          "height": 34
        },
        "outputId": "bedb799d-f8ae-4b3a-bd20-9e19476b499f"
      },
      "source": [
        "list5=list(range(1,11))\n",
        "list6=list(range(11,21))\n",
        "print(list5,list6)"
      ],
      "execution_count": 14,
      "outputs": [
        {
          "output_type": "stream",
          "text": [
            "[1, 2, 3, 4, 5, 6, 7, 8, 9, 10] [11, 12, 13, 14, 15, 16, 17, 18, 19, 20]\n"
          ],
          "name": "stdout"
        }
      ]
    },
    {
      "cell_type": "code",
      "metadata": {
        "id": "Ry6z6gWHcBdY",
        "colab_type": "code",
        "colab": {
          "base_uri": "https://localhost:8080/",
          "height": 34
        },
        "outputId": "c3165f40-d93a-43ea-80c7-d3ed23a9fe5b"
      },
      "source": [
        "result=[list5[i]+list6[i] for i in range(len(list5))]\n",
        "result"
      ],
      "execution_count": 16,
      "outputs": [
        {
          "output_type": "execute_result",
          "data": {
            "text/plain": [
              "[12, 14, 16, 18, 20, 22, 24, 26, 28, 30]"
            ]
          },
          "metadata": {
            "tags": []
          },
          "execution_count": 16
        }
      ]
    },
    {
      "cell_type": "code",
      "metadata": {
        "id": "1b8amGVcdLlB",
        "colab_type": "code",
        "colab": {
          "base_uri": "https://localhost:8080/",
          "height": 34
        },
        "outputId": "16d1335c-e2ec-4e55-fdde-2d64d3954ac0"
      },
      "source": [
        "#zip\n",
        "result=[x+y for x,y in zip(list5,list6)]\n",
        "result"
      ],
      "execution_count": 19,
      "outputs": [
        {
          "output_type": "execute_result",
          "data": {
            "text/plain": [
              "[12, 14, 16, 18, 20, 22, 24, 26, 28, 30]"
            ]
          },
          "metadata": {
            "tags": []
          },
          "execution_count": 19
        }
      ]
    },
    {
      "cell_type": "markdown",
      "metadata": {
        "id": "_9E_6jEceHTP",
        "colab_type": "text"
      },
      "source": [
        "#Anonymous function (lambda function)\n",
        " \n",
        " lambda arguments:logic"
      ]
    },
    {
      "cell_type": "code",
      "metadata": {
        "id": "RN906jTBeRHK",
        "colab_type": "code",
        "colab": {}
      },
      "source": [
        "s=lambda x:x**2"
      ],
      "execution_count": 0,
      "outputs": []
    },
    {
      "cell_type": "code",
      "metadata": {
        "id": "skZux1xNeWK6",
        "colab_type": "code",
        "colab": {
          "base_uri": "https://localhost:8080/",
          "height": 34
        },
        "outputId": "eddc5753-bec0-4107-c762-ea37ab3c8b64"
      },
      "source": [
        "s(12)"
      ],
      "execution_count": 21,
      "outputs": [
        {
          "output_type": "execute_result",
          "data": {
            "text/plain": [
              "144"
            ]
          },
          "metadata": {
            "tags": []
          },
          "execution_count": 21
        }
      ]
    },
    {
      "cell_type": "code",
      "metadata": {
        "id": "PEMP7T_eeYnM",
        "colab_type": "code",
        "colab": {
          "base_uri": "https://localhost:8080/",
          "height": 34
        },
        "outputId": "67fb9381-1334-4698-85cb-701d4b2fd4e9"
      },
      "source": [
        "add=lambda x,y:x+y\n",
        "add(10,20)"
      ],
      "execution_count": 23,
      "outputs": [
        {
          "output_type": "execute_result",
          "data": {
            "text/plain": [
              "30"
            ]
          },
          "metadata": {
            "tags": []
          },
          "execution_count": 23
        }
      ]
    },
    {
      "cell_type": "markdown",
      "metadata": {
        "id": "CieAKMokfG5q",
        "colab_type": "text"
      },
      "source": [
        "#map()"
      ]
    },
    {
      "cell_type": "code",
      "metadata": {
        "id": "QBbBB5qDfFPd",
        "colab_type": "code",
        "colab": {
          "base_uri": "https://localhost:8080/",
          "height": 34
        },
        "outputId": "c51e7a40-d0bd-40f6-afd6-4e6f05d7a91f"
      },
      "source": [
        "list6=list(range(1,11))\n",
        "list6"
      ],
      "execution_count": 24,
      "outputs": [
        {
          "output_type": "execute_result",
          "data": {
            "text/plain": [
              "[1, 2, 3, 4, 5, 6, 7, 8, 9, 10]"
            ]
          },
          "metadata": {
            "tags": []
          },
          "execution_count": 24
        }
      ]
    },
    {
      "cell_type": "code",
      "metadata": {
        "id": "FGrzvpmTfQrl",
        "colab_type": "code",
        "colab": {
          "base_uri": "https://localhost:8080/",
          "height": 34
        },
        "outputId": "bdb667aa-18dd-40e4-8ed8-92a3a07e2e57"
      },
      "source": [
        "#output:[2,4,6,8,10,12,14,16,18,20]\n",
        "result=[i*2 for i in list6]\n",
        "result"
      ],
      "execution_count": 25,
      "outputs": [
        {
          "output_type": "execute_result",
          "data": {
            "text/plain": [
              "[2, 4, 6, 8, 10, 12, 14, 16, 18, 20]"
            ]
          },
          "metadata": {
            "tags": []
          },
          "execution_count": 25
        }
      ]
    },
    {
      "cell_type": "code",
      "metadata": {
        "id": "IoVPmyQqfjFy",
        "colab_type": "code",
        "colab": {
          "base_uri": "https://localhost:8080/",
          "height": 34
        },
        "outputId": "fa27c368-3393-4fbb-f31a-6aeeaa42b28d"
      },
      "source": [
        "#map(function_name,iterable object)\n",
        "result=list(map(lambda i:i*2,list6))\n",
        "result"
      ],
      "execution_count": 29,
      "outputs": [
        {
          "output_type": "execute_result",
          "data": {
            "text/plain": [
              "[2, 4, 6, 8, 10, 12, 14, 16, 18, 20]"
            ]
          },
          "metadata": {
            "tags": []
          },
          "execution_count": 29
        }
      ]
    },
    {
      "cell_type": "code",
      "metadata": {
        "id": "50yuk2qwhD11",
        "colab_type": "code",
        "colab": {
          "base_uri": "https://localhost:8080/",
          "height": 34
        },
        "outputId": "2a213a6f-50d4-48a6-a08d-1d2e8793c4ac"
      },
      "source": [
        "'10 20 30'.split()"
      ],
      "execution_count": 30,
      "outputs": [
        {
          "output_type": "execute_result",
          "data": {
            "text/plain": [
              "['10', '20', '30']"
            ]
          },
          "metadata": {
            "tags": []
          },
          "execution_count": 30
        }
      ]
    },
    {
      "cell_type": "code",
      "metadata": {
        "id": "qBbimTaUhJLF",
        "colab_type": "code",
        "colab": {
          "base_uri": "https://localhost:8080/",
          "height": 51
        },
        "outputId": "f222cad8-ca32-4421-f1a5-ee935d26abc0"
      },
      "source": [
        "#unpacking\n",
        "x,y,z=list(map(int,input(\" enter your input:\").split()))\n",
        "print(x,y,z)"
      ],
      "execution_count": 35,
      "outputs": [
        {
          "output_type": "stream",
          "text": [
            " enter your input:10 20 30\n",
            "10 20 30\n"
          ],
          "name": "stdout"
        }
      ]
    },
    {
      "cell_type": "markdown",
      "metadata": {
        "id": "1AVUIxcZikqr",
        "colab_type": "text"
      },
      "source": [
        "#filter()"
      ]
    },
    {
      "cell_type": "code",
      "metadata": {
        "id": "qXlkHbBqinRV",
        "colab_type": "code",
        "colab": {
          "base_uri": "https://localhost:8080/",
          "height": 34
        },
        "outputId": "a70d0e9d-61e3-4445-8b01-0712e06b3b9c"
      },
      "source": [
        "result=[]\n",
        "for i in list6:\n",
        "    if i%5==0:\n",
        "        result.append(i)\n",
        "result"
      ],
      "execution_count": 37,
      "outputs": [
        {
          "output_type": "execute_result",
          "data": {
            "text/plain": [
              "[5, 10]"
            ]
          },
          "metadata": {
            "tags": []
          },
          "execution_count": 37
        }
      ]
    },
    {
      "cell_type": "code",
      "metadata": {
        "id": "VmdLdXkkjKtP",
        "colab_type": "code",
        "colab": {
          "base_uri": "https://localhost:8080/",
          "height": 34
        },
        "outputId": "b789d3f1-ebe0-4b39-c2ff-08e510ae9257"
      },
      "source": [
        "list(filter(lambda x:(x%3==0),list6))\n"
      ],
      "execution_count": 39,
      "outputs": [
        {
          "output_type": "execute_result",
          "data": {
            "text/plain": [
              "[3, 6, 9]"
            ]
          },
          "metadata": {
            "tags": []
          },
          "execution_count": 39
        }
      ]
    },
    {
      "cell_type": "markdown",
      "metadata": {
        "id": "zgx1pr1oj8T2",
        "colab_type": "text"
      },
      "source": [
        "#Reduce()"
      ]
    },
    {
      "cell_type": "code",
      "metadata": {
        "id": "_NqRKilBj68R",
        "colab_type": "code",
        "colab": {}
      },
      "source": [
        "from functools import reduce\n"
      ],
      "execution_count": 0,
      "outputs": []
    },
    {
      "cell_type": "code",
      "metadata": {
        "id": "4m0b6scMk5It",
        "colab_type": "code",
        "colab": {
          "base_uri": "https://localhost:8080/",
          "height": 34
        },
        "outputId": "ddb46fc5-3bb2-43fc-8d49-bd1962710417"
      },
      "source": [
        "#traditional\n",
        "list1=[1,2,3,4,5]\n",
        "#output=120\n",
        "m=1\n",
        "for i in list1:\n",
        "    m*=i\n",
        "print(m)"
      ],
      "execution_count": 41,
      "outputs": [
        {
          "output_type": "stream",
          "text": [
            "120\n"
          ],
          "name": "stdout"
        }
      ]
    },
    {
      "cell_type": "code",
      "metadata": {
        "id": "pT352SJWlK4x",
        "colab_type": "code",
        "colab": {}
      },
      "source": [
        " "
      ],
      "execution_count": 0,
      "outputs": []
    }
  ]
}