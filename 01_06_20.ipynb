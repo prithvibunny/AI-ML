{
  "nbformat": 4,
  "nbformat_minor": 0,
  "metadata": {
    "colab": {
      "name": "01-06-20.ipynb",
      "provenance": []
    },
    "kernelspec": {
      "name": "python3",
      "display_name": "Python 3"
    }
  },
  "cells": [
    {
      "cell_type": "markdown",
      "metadata": {
        "id": "JYkLEroG8KjP",
        "colab_type": "text"
      },
      "source": [
        "#File handling\n",
        "1. create\n",
        "2. write\n",
        "3. reading\n",
        "4. appending\n",
        "5. renaming\n",
        "6. removing"
      ]
    },
    {
      "cell_type": "code",
      "metadata": {
        "id": "rDvo6zSB8ehm",
        "colab_type": "code",
        "colab": {}
      },
      "source": [
        "import os\n",
        "os.rename(\"sample.txt\",\"demo.txt\")"
      ],
      "execution_count": 0,
      "outputs": []
    },
    {
      "cell_type": "code",
      "metadata": {
        "id": "9epLSQet8mpT",
        "colab_type": "code",
        "colab": {}
      },
      "source": [
        "os.remove(\"demo.txt\")"
      ],
      "execution_count": 0,
      "outputs": []
    },
    {
      "cell_type": "markdown",
      "metadata": {
        "id": "-IzNFYEW9OTK",
        "colab_type": "text"
      },
      "source": [
        "#Q5 assignment 30-05-20"
      ]
    },
    {
      "cell_type": "code",
      "metadata": {
        "id": "GzP-Q1xb9bX6",
        "colab_type": "code",
        "colab": {}
      },
      "source": [
        "import os\n",
        "os.mkdir(\"python\")\n",
        "for i in range(5):\n",
        "    file_name=\" \"\n",
        "    f=open(\"c://python//file name\",\"a\")\n",
        "    for i in range(512):\n",
        "        f.write(\"character\")"
      ],
      "execution_count": 0,
      "outputs": []
    },
    {
      "cell_type": "code",
      "metadata": {
        "id": "I8UVMQj9-7rS",
        "colab_type": "code",
        "colab": {
          "base_uri": "https://localhost:8080/",
          "height": 34
        },
        "outputId": "e62a9aef-8e87-484b-fcbf-29b6bf1bcc90"
      },
      "source": [
        "import string\n",
        "string.ascii_letters"
      ],
      "execution_count": 1,
      "outputs": [
        {
          "output_type": "execute_result",
          "data": {
            "text/plain": [
              "'abcdefghijklmnopqrstuvwxyzABCDEFGHIJKLMNOPQRSTUVWXYZ'"
            ]
          },
          "metadata": {
            "tags": []
          },
          "execution_count": 1
        }
      ]
    },
    {
      "cell_type": "code",
      "metadata": {
        "id": "fzhEhc8n_Hn2",
        "colab_type": "code",
        "colab": {
          "base_uri": "https://localhost:8080/",
          "height": 34
        },
        "outputId": "6d87ac52-8e2a-484e-8eae-4aae178ce2ac"
      },
      "source": [
        "string.punctuation"
      ],
      "execution_count": 2,
      "outputs": [
        {
          "output_type": "execute_result",
          "data": {
            "text/plain": [
              "'!\"#$%&\\'()*+,-./:;<=>?@[\\\\]^_`{|}~'"
            ]
          },
          "metadata": {
            "tags": []
          },
          "execution_count": 2
        }
      ]
    },
    {
      "cell_type": "markdown",
      "metadata": {
        "id": "OkaTz-PfAd1x",
        "colab_type": "text"
      },
      "source": [
        "#Tuple:\n",
        "1. Immutable(changes are not allowed)\n",
        "2. using() elements are seperated by,\n",
        "3. Indexed,ordered\n",
        "4. allows duplicate values"
      ]
    },
    {
      "cell_type": "code",
      "metadata": {
        "id": "buNFt4FBBHlk",
        "colab_type": "code",
        "colab": {
          "base_uri": "https://localhost:8080/",
          "height": 34
        },
        "outputId": "0f727ca0-1edc-4b16-ec41-d3e186dacabd"
      },
      "source": [
        "#Tuple\n",
        "tup1=(12,3,345.56,\"abc\",True)\n",
        "print(type(tup1))"
      ],
      "execution_count": 3,
      "outputs": [
        {
          "output_type": "stream",
          "text": [
            "<class 'tuple'>\n"
          ],
          "name": "stdout"
        }
      ]
    },
    {
      "cell_type": "code",
      "metadata": {
        "id": "6XHbPZd2BXrU",
        "colab_type": "code",
        "colab": {
          "base_uri": "https://localhost:8080/",
          "height": 51
        },
        "outputId": "fdf7a028-114f-4fec-c986-84d35fba637b"
      },
      "source": [
        "print(tup1[2])\n",
        "print(tup1[-1])"
      ],
      "execution_count": 5,
      "outputs": [
        {
          "output_type": "stream",
          "text": [
            "345.56\n",
            "True\n"
          ],
          "name": "stdout"
        }
      ]
    },
    {
      "cell_type": "code",
      "metadata": {
        "id": "NqZKxh6EBnN4",
        "colab_type": "code",
        "colab": {
          "base_uri": "https://localhost:8080/",
          "height": 34
        },
        "outputId": "31c257d8-8bb5-4fed-c43f-3edf1eda8c35"
      },
      "source": [
        "l=list(tup1)\n",
        "l[2]=100\n",
        "tup1=tuple(l)\n",
        "tup1"
      ],
      "execution_count": 11,
      "outputs": [
        {
          "output_type": "execute_result",
          "data": {
            "text/plain": [
              "(12, 3, 100, 'abc', True)"
            ]
          },
          "metadata": {
            "tags": []
          },
          "execution_count": 11
        }
      ]
    },
    {
      "cell_type": "markdown",
      "metadata": {
        "id": "zER9hNEqDTzm",
        "colab_type": "text"
      },
      "source": [
        "#Built-in methods:\n",
        "1. count()\n",
        "2. index()"
      ]
    },
    {
      "cell_type": "code",
      "metadata": {
        "id": "CRuA834oDi8g",
        "colab_type": "code",
        "colab": {
          "base_uri": "https://localhost:8080/",
          "height": 51
        },
        "outputId": "89ea72ad-0cd1-43cb-cc8a-1790865ceea5"
      },
      "source": [
        "print(tup1.count(12))\n",
        "print(tup1.index(12))"
      ],
      "execution_count": 12,
      "outputs": [
        {
          "output_type": "stream",
          "text": [
            "1\n",
            "0\n"
          ],
          "name": "stdout"
        }
      ]
    },
    {
      "cell_type": "markdown",
      "metadata": {
        "id": "JYe4TlGHE184",
        "colab_type": "text"
      },
      "source": [
        "#Packing and unpacking"
      ]
    },
    {
      "cell_type": "code",
      "metadata": {
        "id": "zKQmE0jzDzvV",
        "colab_type": "code",
        "colab": {
          "base_uri": "https://localhost:8080/",
          "height": 34
        },
        "outputId": "609d2c94-30c9-4c82-ac03-e7e672e1fc08"
      },
      "source": [
        "#unpacking\n",
        "tup2=(12,232,4,354)\n",
        "a,b,c,d=tup2\n",
        "print(d)"
      ],
      "execution_count": 13,
      "outputs": [
        {
          "output_type": "stream",
          "text": [
            "354\n"
          ],
          "name": "stdout"
        }
      ]
    },
    {
      "cell_type": "code",
      "metadata": {
        "id": "_biuTYz0D-xf",
        "colab_type": "code",
        "colab": {
          "base_uri": "https://localhost:8080/",
          "height": 51
        },
        "outputId": "b35e9193-532f-48dd-af26-7a4b8104fe30"
      },
      "source": [
        "#packing\n",
        "x=10,20,30\n",
        "print(type(x))\n",
        "print(x)"
      ],
      "execution_count": 15,
      "outputs": [
        {
          "output_type": "stream",
          "text": [
            "<class 'tuple'>\n",
            "(10, 20, 30)\n"
          ],
          "name": "stdout"
        }
      ]
    },
    {
      "cell_type": "code",
      "metadata": {
        "id": "lADUnnGAFKkf",
        "colab_type": "code",
        "colab": {
          "base_uri": "https://localhost:8080/",
          "height": 34
        },
        "outputId": "47ac0228-c5f9-4b5e-daf2-fe7005fd2a06"
      },
      "source": [
        "#Tuple with single element\n",
        "y=(10,)\n",
        "print(type(y))"
      ],
      "execution_count": 16,
      "outputs": [
        {
          "output_type": "stream",
          "text": [
            "<class 'tuple'>\n"
          ],
          "name": "stdout"
        }
      ]
    },
    {
      "cell_type": "code",
      "metadata": {
        "id": "WPPV-MWQFgHe",
        "colab_type": "code",
        "colab": {
          "base_uri": "https://localhost:8080/",
          "height": 34
        },
        "outputId": "77e3e9cb-390f-49f4-e3cc-3a3cbab2e328"
      },
      "source": [
        "#Iterating through tuple\n",
        "for ele in x:\n",
        "     print(ele,end=\" \")"
      ],
      "execution_count": 17,
      "outputs": [
        {
          "output_type": "stream",
          "text": [
            "10 20 30 "
          ],
          "name": "stdout"
        }
      ]
    },
    {
      "cell_type": "markdown",
      "metadata": {
        "id": "iW5qkpeJF7rG",
        "colab_type": "text"
      },
      "source": [
        "#Set:\n",
        "1. { }\n",
        "2. Does not allow deplicates\n",
        "3. not ordered\n",
        "4. unindexed\n",
        "5. mutable"
      ]
    },
    {
      "cell_type": "code",
      "metadata": {
        "id": "yJv5_2H4GU49",
        "colab_type": "code",
        "colab": {
          "base_uri": "https://localhost:8080/",
          "height": 34
        },
        "outputId": "e021b328-4586-4197-bb63-c6395a9c78bb"
      },
      "source": [
        "set1={1,2,334,45,5,6,3,1}\n",
        "print(set1)"
      ],
      "execution_count": 18,
      "outputs": [
        {
          "output_type": "stream",
          "text": [
            "{1, 2, 3, 5, 6, 45, 334}\n"
          ],
          "name": "stdout"
        }
      ]
    },
    {
      "cell_type": "code",
      "metadata": {
        "id": "6eGlaATBG6bi",
        "colab_type": "code",
        "colab": {
          "base_uri": "https://localhost:8080/",
          "height": 136
        },
        "outputId": "0b841246-84fb-4969-8719-3a8e56f114f5"
      },
      "source": [
        "for ele in set1:\n",
        "    print(ele)"
      ],
      "execution_count": 20,
      "outputs": [
        {
          "output_type": "stream",
          "text": [
            "1\n",
            "2\n",
            "3\n",
            "5\n",
            "6\n",
            "45\n",
            "334\n"
          ],
          "name": "stdout"
        }
      ]
    },
    {
      "cell_type": "markdown",
      "metadata": {
        "id": "SqNUq46TH2zJ",
        "colab_type": "text"
      },
      "source": [
        "#Built-in functions:\n",
        "1. len()\n",
        "2. min()\n",
        "3. max()\n",
        "4. set()"
      ]
    },
    {
      "cell_type": "code",
      "metadata": {
        "id": "3QbEYdnTIlJK",
        "colab_type": "code",
        "colab": {
          "base_uri": "https://localhost:8080/",
          "height": 85
        },
        "outputId": "b7f93958-a9bc-415c-d955-e39a9026d411"
      },
      "source": [
        "print(set1)\n",
        "print(len(set1))\n",
        "print(min(set1))\n",
        "print(max(set1))"
      ],
      "execution_count": 21,
      "outputs": [
        {
          "output_type": "stream",
          "text": [
            "{1, 2, 3, 5, 6, 45, 334}\n",
            "7\n",
            "1\n",
            "334\n"
          ],
          "name": "stdout"
        }
      ]
    },
    {
      "cell_type": "code",
      "metadata": {
        "id": "3m9J98szI7Xp",
        "colab_type": "code",
        "colab": {
          "base_uri": "https://localhost:8080/",
          "height": 34
        },
        "outputId": "2d7eafab-cc2a-4140-8a61-cd3e887f7546"
      },
      "source": [
        "#removing duplicates from the list\n",
        "list1=[1,2,3,4,5,1,2,3]\n",
        "list1=set(list1)\n",
        "list1"
      ],
      "execution_count": 22,
      "outputs": [
        {
          "output_type": "execute_result",
          "data": {
            "text/plain": [
              "{1, 2, 3, 4, 5}"
            ]
          },
          "metadata": {
            "tags": []
          },
          "execution_count": 22
        }
      ]
    },
    {
      "cell_type": "markdown",
      "metadata": {
        "id": "GSM0evkoJbCD",
        "colab_type": "text"
      },
      "source": [
        "#Built-in methods:\n",
        "##Adding an element\n",
        "1. add()\n",
        "##Removing an element\n",
        "2. pop()\n",
        "3. remove()"
      ]
    },
    {
      "cell_type": "code",
      "metadata": {
        "id": "yZzVG9KvJtRI",
        "colab_type": "code",
        "colab": {
          "base_uri": "https://localhost:8080/",
          "height": 34
        },
        "outputId": "a042459e-a965-4571-f583-ee7b85c904cf"
      },
      "source": [
        "set2=set()\n",
        "print(type(set2))"
      ],
      "execution_count": 24,
      "outputs": [
        {
          "output_type": "stream",
          "text": [
            "<class 'set'>\n"
          ],
          "name": "stdout"
        }
      ]
    },
    {
      "cell_type": "code",
      "metadata": {
        "id": "Tyg9i5leJ6LF",
        "colab_type": "code",
        "colab": {
          "base_uri": "https://localhost:8080/",
          "height": 34
        },
        "outputId": "aac0a342-a7e3-49ab-f1e9-bf3094b8d84f"
      },
      "source": [
        "#adding an element\n",
        "set2.add(12)\n",
        "set2.add(23)\n",
        "set2.add(100)\n",
        "set2"
      ],
      "execution_count": 25,
      "outputs": [
        {
          "output_type": "execute_result",
          "data": {
            "text/plain": [
              "{12, 23, 100}"
            ]
          },
          "metadata": {
            "tags": []
          },
          "execution_count": 25
        }
      ]
    },
    {
      "cell_type": "code",
      "metadata": {
        "id": "McTU1C91KoFp",
        "colab_type": "code",
        "colab": {
          "base_uri": "https://localhost:8080/",
          "height": 34
        },
        "outputId": "41ef2e7a-ebfb-47dc-9114-584d8201f9e6"
      },
      "source": [
        "set2.pop()"
      ],
      "execution_count": 26,
      "outputs": [
        {
          "output_type": "execute_result",
          "data": {
            "text/plain": [
              "100"
            ]
          },
          "metadata": {
            "tags": []
          },
          "execution_count": 26
        }
      ]
    },
    {
      "cell_type": "code",
      "metadata": {
        "id": "YvaEuPURLQvD",
        "colab_type": "code",
        "colab": {}
      },
      "source": [
        "set2.discard(12)"
      ],
      "execution_count": 0,
      "outputs": []
    },
    {
      "cell_type": "code",
      "metadata": {
        "id": "XftFpbZ7MZHx",
        "colab_type": "code",
        "colab": {
          "base_uri": "https://localhost:8080/",
          "height": 34
        },
        "outputId": "058213e0-fbfb-40e1-a4e5-062072509c74"
      },
      "source": [
        "set2.clear()\n",
        "set2"
      ],
      "execution_count": 33,
      "outputs": [
        {
          "output_type": "execute_result",
          "data": {
            "text/plain": [
              "set()"
            ]
          },
          "metadata": {
            "tags": []
          },
          "execution_count": 33
        }
      ]
    },
    {
      "cell_type": "code",
      "metadata": {
        "id": "lr_9Z9TpNVw8",
        "colab_type": "code",
        "colab": {
          "base_uri": "https://localhost:8080/",
          "height": 85
        },
        "outputId": "8d11a752-60a1-4712-a613-072b38763fad"
      },
      "source": [
        "#union,difference,intersection\n",
        "\n",
        "A={1,2,3,4,5}\n",
        "B={3,4,5,6,7}\n",
        "print(A.union(B))\n",
        "print(A.difference(B))\n",
        "print(B.difference(A))\n",
        "print(A.intersection(B))\n",
        "\n"
      ],
      "execution_count": 35,
      "outputs": [
        {
          "output_type": "stream",
          "text": [
            "{1, 2, 3, 4, 5, 6, 7}\n",
            "{1, 2}\n",
            "{6, 7}\n",
            "{3, 4, 5}\n"
          ],
          "name": "stdout"
        }
      ]
    },
    {
      "cell_type": "code",
      "metadata": {
        "id": "fbM62hRYPN2B",
        "colab_type": "code",
        "colab": {
          "base_uri": "https://localhost:8080/",
          "height": 85
        },
        "outputId": "6aacc421-8ac7-40f3-a507-4a6fee67097c"
      },
      "source": [
        "#subset,super set,disjoint\n",
        "\n",
        "C={1,2,3,4,5,6,7,8,9,10}\n",
        "print(A.issubset(C))\n",
        "print(A.issubset(B))\n",
        "print(C.issuperset(A))\n",
        "print(C.issuperset(B))"
      ],
      "execution_count": 36,
      "outputs": [
        {
          "output_type": "stream",
          "text": [
            "True\n",
            "False\n",
            "True\n",
            "True\n"
          ],
          "name": "stdout"
        }
      ]
    },
    {
      "cell_type": "code",
      "metadata": {
        "id": "YyNUV_GqQWYN",
        "colab_type": "code",
        "colab": {
          "base_uri": "https://localhost:8080/",
          "height": 51
        },
        "outputId": "04a72082-e01e-43e4-d0e7-52d96e2a7ca2"
      },
      "source": [
        "#disjoint\n",
        "X={1,2}\n",
        "Y={23,34,45}\n",
        "print(A.isdisjoint(B))\n",
        "print(X.isdisjoint(Y))"
      ],
      "execution_count": 38,
      "outputs": [
        {
          "output_type": "stream",
          "text": [
            "False\n",
            "True\n"
          ],
          "name": "stdout"
        }
      ]
    },
    {
      "cell_type": "code",
      "metadata": {
        "id": "PAi7SnVnRZCC",
        "colab_type": "code",
        "colab": {
          "base_uri": "https://localhost:8080/",
          "height": 68
        },
        "outputId": "f893c96c-2254-432e-8eda-06ffe648e406"
      },
      "source": [
        "#symmetric difference\n",
        "print(A.symmetric_difference(B))\n",
        "print(A)\n",
        "print(B)"
      ],
      "execution_count": 40,
      "outputs": [
        {
          "output_type": "stream",
          "text": [
            "{1, 2, 6, 7}\n",
            "{1, 2, 3, 4, 5}\n",
            "{3, 4, 5, 6, 7}\n"
          ],
          "name": "stdout"
        }
      ]
    },
    {
      "cell_type": "code",
      "metadata": {
        "id": "a0FKOGL2S2UL",
        "colab_type": "code",
        "colab": {}
      },
      "source": [
        "A.union(B) ==>{1,2,3,4,5,6,7}\n",
        "A==>{1,2,3,4,5}\n",
        "B==>{3,4,5,6,7}\n",
        "=====================\n",
        "A==>{1,2,3,4,5,6,7}\n",
        "B==>{3,4,5,6,7}"
      ],
      "execution_count": 0,
      "outputs": []
    },
    {
      "cell_type": "code",
      "metadata": {
        "id": "jn8jbxXNS3MZ",
        "colab_type": "code",
        "colab": {
          "base_uri": "https://localhost:8080/",
          "height": 51
        },
        "outputId": "de753d30-b907-4224-a3c7-cad8b39dd29e"
      },
      "source": [
        "A.update(B)\n",
        "print(A)\n",
        "print(B)"
      ],
      "execution_count": 42,
      "outputs": [
        {
          "output_type": "stream",
          "text": [
            "{1, 2, 3, 4, 5, 6, 7}\n",
            "{3, 4, 5, 6, 7}\n"
          ],
          "name": "stdout"
        }
      ]
    },
    {
      "cell_type": "code",
      "metadata": {
        "id": "DPvGeu-IS_Op",
        "colab_type": "code",
        "colab": {
          "base_uri": "https://localhost:8080/",
          "height": 51
        },
        "outputId": "3fd280b6-ab29-4fa5-dea7-f0d5d278d1c1"
      },
      "source": [
        "A.intersection_update(B)\n",
        "print(A)\n",
        "print(B)"
      ],
      "execution_count": 43,
      "outputs": [
        {
          "output_type": "stream",
          "text": [
            "{3, 4, 5, 6, 7}\n",
            "{3, 4, 5, 6, 7}\n"
          ],
          "name": "stdout"
        }
      ]
    },
    {
      "cell_type": "code",
      "metadata": {
        "id": "xSF-aaGdTYm9",
        "colab_type": "code",
        "colab": {
          "base_uri": "https://localhost:8080/",
          "height": 51
        },
        "outputId": "dcd7516c-fbd5-4efd-9809-0c134684751e"
      },
      "source": [
        "A.difference_update(B)\n",
        "print(A)\n",
        "print(B)"
      ],
      "execution_count": 44,
      "outputs": [
        {
          "output_type": "stream",
          "text": [
            "set()\n",
            "{3, 4, 5, 6, 7}\n"
          ],
          "name": "stdout"
        }
      ]
    },
    {
      "cell_type": "code",
      "metadata": {
        "id": "2HH4w3lzTf9a",
        "colab_type": "code",
        "colab": {
          "base_uri": "https://localhost:8080/",
          "height": 51
        },
        "outputId": "3e84c282-a849-4fd3-9477-a4f398311667"
      },
      "source": [
        "A.symmetric_difference_update(B)\n",
        "print(A)\n",
        "print(B)"
      ],
      "execution_count": 45,
      "outputs": [
        {
          "output_type": "stream",
          "text": [
            "{3, 4, 5, 6, 7}\n",
            "{3, 4, 5, 6, 7}\n"
          ],
          "name": "stdout"
        }
      ]
    },
    {
      "cell_type": "code",
      "metadata": {
        "id": "mwnnAoICTzMX",
        "colab_type": "code",
        "colab": {
          "base_uri": "https://localhost:8080/",
          "height": 136
        },
        "outputId": "dadae4e4-4f10-4c6d-b551-465e2f5bd2f4"
      },
      "source": [
        "A={1,2,3}\n",
        "B={2,3,4}\n",
        "print(A.difference(B))\n",
        "print(B.difference(A))\n",
        "print(A.symmetric_difference(B))\n",
        "print(A)\n",
        "print(B)\n",
        "A.symmetric_difference_update(B)\n",
        "print(A)\n",
        "print(B)"
      ],
      "execution_count": 48,
      "outputs": [
        {
          "output_type": "stream",
          "text": [
            "{1}\n",
            "{4}\n",
            "{1, 4}\n",
            "{1, 2, 3}\n",
            "{2, 3, 4}\n",
            "{1, 4}\n",
            "{2, 3, 4}\n"
          ],
          "name": "stdout"
        }
      ]
    },
    {
      "cell_type": "markdown",
      "metadata": {
        "id": "Ax9_-HJuWLD3",
        "colab_type": "text"
      },
      "source": [
        "#Dictionary\n",
        " dictionary name={key1:value1,key2:value2.....\n",
        "\n",
        " Rules:\n",
        " 1. keys should be unique\n",
        " 2. keys should be immutable"
      ]
    },
    {
      "cell_type": "code",
      "metadata": {
        "id": "MxCuZ0ZKXaPH",
        "colab_type": "code",
        "colab": {
          "base_uri": "https://localhost:8080/",
          "height": 34
        },
        "outputId": "00efbcf7-5986-4638-f624-01e78e92150e"
      },
      "source": [
        "#creating dictionary\n",
        "dict1={\"name\":\"xyz\",\"empid\":123,\"address\":\"hyd\"}\n",
        "print(dict1)"
      ],
      "execution_count": 52,
      "outputs": [
        {
          "output_type": "stream",
          "text": [
            "{'name': 'xyz', 'empid': 123, 'address': 'hyd'}\n"
          ],
          "name": "stdout"
        }
      ]
    },
    {
      "cell_type": "code",
      "metadata": {
        "id": "mwPGlVUYXxrx",
        "colab_type": "code",
        "colab": {
          "base_uri": "https://localhost:8080/",
          "height": 34
        },
        "outputId": "b9c7a334-acec-4b69-dfe6-6f22168dc59e"
      },
      "source": [
        "#extracting element\n",
        "print(dict1[\"empid\"])"
      ],
      "execution_count": 53,
      "outputs": [
        {
          "output_type": "stream",
          "text": [
            "123\n"
          ],
          "name": "stdout"
        }
      ]
    },
    {
      "cell_type": "code",
      "metadata": {
        "id": "_Qn10mGMYpuU",
        "colab_type": "code",
        "colab": {
          "base_uri": "https://localhost:8080/",
          "height": 34
        },
        "outputId": "fbff8a78-6cf3-4525-e9ad-57eda5fca96f"
      },
      "source": [
        "#removing or deleting an entry\n",
        "del dict1[\"address\"]\n",
        "print(dict1)"
      ],
      "execution_count": 54,
      "outputs": [
        {
          "output_type": "stream",
          "text": [
            "{'name': 'xyz', 'empid': 123}\n"
          ],
          "name": "stdout"
        }
      ]
    },
    {
      "cell_type": "code",
      "metadata": {
        "id": "P44G4YyyZQ_M",
        "colab_type": "code",
        "colab": {
          "base_uri": "https://localhost:8080/",
          "height": 34
        },
        "outputId": "55258e38-8692-4c89-b42f-4be6a58da510"
      },
      "source": [
        "#adding an entry\n",
        "dict1[\"course\"]=\"python\"\n",
        "print(dict1)"
      ],
      "execution_count": 55,
      "outputs": [
        {
          "output_type": "stream",
          "text": [
            "{'name': 'xyz', 'empid': 123, 'course': 'python'}\n"
          ],
          "name": "stdout"
        }
      ]
    },
    {
      "cell_type": "markdown",
      "metadata": {
        "id": "FH1D8TFIavBM",
        "colab_type": "text"
      },
      "source": [
        "#Built-in method:\n",
        "1. key()\n",
        "2. items()\n",
        "3. items()\n",
        "4. get()\n",
        "5. update()\n",
        "6. pop()\n",
        "7. popitem"
      ]
    },
    {
      "cell_type": "code",
      "metadata": {
        "id": "Q6gdQTtya2Qu",
        "colab_type": "code",
        "colab": {
          "base_uri": "https://localhost:8080/",
          "height": 68
        },
        "outputId": "403aff96-ae45-4709-ade4-8e6bab89345e"
      },
      "source": [
        "print(dict1.keys())\n",
        "print(dict1.values())\n",
        "print(dict1.items())"
      ],
      "execution_count": 56,
      "outputs": [
        {
          "output_type": "stream",
          "text": [
            "dict_keys(['name', 'empid', 'course'])\n",
            "dict_values(['xyz', 123, 'python'])\n",
            "dict_items([('name', 'xyz'), ('empid', 123), ('course', 'python')])\n"
          ],
          "name": "stdout"
        }
      ]
    },
    {
      "cell_type": "code",
      "metadata": {
        "id": "G1MT0J4VbRff",
        "colab_type": "code",
        "colab": {
          "base_uri": "https://localhost:8080/",
          "height": 51
        },
        "outputId": "fa3b29e2-ec71-4aec-e5a6-5edf040a481b"
      },
      "source": [
        "#extracting an element\n",
        "print(dict1[\"name\"])\n",
        "print(dict1.get(\"name\"))"
      ],
      "execution_count": 57,
      "outputs": [
        {
          "output_type": "stream",
          "text": [
            "xyz\n",
            "xyz\n"
          ],
          "name": "stdout"
        }
      ]
    },
    {
      "cell_type": "code",
      "metadata": {
        "id": "Fvig0adbbewF",
        "colab_type": "code",
        "colab": {
          "base_uri": "https://localhost:8080/",
          "height": 34
        },
        "outputId": "00f39814-1eef-4adc-c5d4-1639911d6b22"
      },
      "source": [
        "#adding an entry\n",
        "dict1[\"address\"]=\"hyd\"\n",
        "dict1"
      ],
      "execution_count": 58,
      "outputs": [
        {
          "output_type": "execute_result",
          "data": {
            "text/plain": [
              "{'address': 'hyd', 'course': 'python', 'empid': 123, 'name': 'xyz'}"
            ]
          },
          "metadata": {
            "tags": []
          },
          "execution_count": 58
        }
      ]
    },
    {
      "cell_type": "code",
      "metadata": {
        "id": "mLugxx6Ebsqx",
        "colab_type": "code",
        "colab": {
          "base_uri": "https://localhost:8080/",
          "height": 34
        },
        "outputId": "94356fef-2404-4b28-9c2c-b9286dbfface"
      },
      "source": [
        "d={1:1,2:2,3:3}\n",
        "dict1.update(d)\n",
        "print(dict1)"
      ],
      "execution_count": 59,
      "outputs": [
        {
          "output_type": "stream",
          "text": [
            "{'name': 'xyz', 'empid': 123, 'course': 'python', 'address': 'hyd', 1: 1, 2: 2, 3: 3}\n"
          ],
          "name": "stdout"
        }
      ]
    },
    {
      "cell_type": "code",
      "metadata": {
        "id": "HVyrKlJ3b52e",
        "colab_type": "code",
        "colab": {
          "base_uri": "https://localhost:8080/",
          "height": 34
        },
        "outputId": "e5318588-35c5-4023-ba2e-f2c7497e6084"
      },
      "source": [
        "#removing an entry==>pop(),popitem()\n",
        "dict1.pop(\"name\")\n",
        "dict1"
      ],
      "execution_count": 60,
      "outputs": [
        {
          "output_type": "execute_result",
          "data": {
            "text/plain": [
              "{1: 1, 2: 2, 3: 3, 'address': 'hyd', 'course': 'python', 'empid': 123}"
            ]
          },
          "metadata": {
            "tags": []
          },
          "execution_count": 60
        }
      ]
    },
    {
      "cell_type": "code",
      "metadata": {
        "id": "FzwiHrRnczJf",
        "colab_type": "code",
        "colab": {
          "base_uri": "https://localhost:8080/",
          "height": 34
        },
        "outputId": "8521bf8d-458f-454c-8d7f-365938080ffb"
      },
      "source": [
        "dict1.popitem()"
      ],
      "execution_count": 63,
      "outputs": [
        {
          "output_type": "execute_result",
          "data": {
            "text/plain": [
              "(1, 1)"
            ]
          },
          "metadata": {
            "tags": []
          },
          "execution_count": 63
        }
      ]
    },
    {
      "cell_type": "code",
      "metadata": {
        "id": "3c9gzU_8c74Q",
        "colab_type": "code",
        "colab": {
          "base_uri": "https://localhost:8080/",
          "height": 34
        },
        "outputId": "ef4b2b67-c78d-4e8c-bcab-81b12fb42efe"
      },
      "source": [
        "dict1"
      ],
      "execution_count": 64,
      "outputs": [
        {
          "output_type": "execute_result",
          "data": {
            "text/plain": [
              "{'address': 'hyd', 'course': 'python', 'empid': 123}"
            ]
          },
          "metadata": {
            "tags": []
          },
          "execution_count": 64
        }
      ]
    },
    {
      "cell_type": "code",
      "metadata": {
        "id": "k6jWQNYQg9AZ",
        "colab_type": "code",
        "colab": {
          "base_uri": "https://localhost:8080/",
          "height": 34
        },
        "outputId": "fd128709-f286-4bc9-ae18-b971df0c1e60"
      },
      "source": [
        "dict1.popitem()"
      ],
      "execution_count": 65,
      "outputs": [
        {
          "output_type": "execute_result",
          "data": {
            "text/plain": [
              "('address', 'hyd')"
            ]
          },
          "metadata": {
            "tags": []
          },
          "execution_count": 65
        }
      ]
    },
    {
      "cell_type": "code",
      "metadata": {
        "id": "9CNBl9eLhAzU",
        "colab_type": "code",
        "colab": {
          "base_uri": "https://localhost:8080/",
          "height": 34
        },
        "outputId": "a3cf226d-9b7d-4a76-cf41-2a581e1d707c"
      },
      "source": [
        "import random\n",
        "random.randint(1,100)\n",
        "#random.choice()"
      ],
      "execution_count": 74,
      "outputs": [
        {
          "output_type": "execute_result",
          "data": {
            "text/plain": [
              "97"
            ]
          },
          "metadata": {
            "tags": []
          },
          "execution_count": 74
        }
      ]
    }
  ]
}