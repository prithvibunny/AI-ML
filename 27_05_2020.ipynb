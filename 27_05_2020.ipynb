{
  "nbformat": 4,
  "nbformat_minor": 0,
  "metadata": {
    "colab": {
      "name": "27-05-2020.ipynb",
      "provenance": [],
      "collapsed_sections": []
    },
    "kernelspec": {
      "name": "python3",
      "display_name": "Python 3"
    }
  },
  "cells": [
    {
      "cell_type": "code",
      "metadata": {
        "id": "GckoDn39QKAu",
        "colab_type": "code",
        "colab": {}
      },
      "source": [
        ""
      ],
      "execution_count": 0,
      "outputs": []
    },
    {
      "cell_type": "markdown",
      "metadata": {
        "id": "TaalcPa-TsWF",
        "colab_type": "text"
      },
      "source": [
        ""
      ]
    },
    {
      "cell_type": "markdown",
      "metadata": {
        "id": "-MIurVlET5ew",
        "colab_type": "text"
      },
      "source": [
        "#python\n",
        "##python\n",
        "###python\n",
        "####python\n"
      ]
    },
    {
      "cell_type": "markdown",
      "metadata": {
        "id": "lL4H6CK3VE-W",
        "colab_type": "text"
      },
      "source": [
        "#list of programming languages\n",
        "1. python\n",
        "2. java\n",
        "3. c\n",
        "4. c++\n",
        "5. .net"
      ]
    },
    {
      "cell_type": "markdown",
      "metadata": {
        "id": "EzZAgduAVr4B",
        "colab_type": "text"
      },
      "source": [
        "#list of programming languages\n",
        "- python\n",
        "    - core python\n",
        "    - adv python\n",
        "- java\n",
        "- c\n",
        "- c++\n",
        "- .net"
      ]
    },
    {
      "cell_type": "markdown",
      "metadata": {
        "id": "UCeUhRwTVUfA",
        "colab_type": "text"
      },
      "source": [
        "- **python programming**\n",
        "- *python programming*\n"
      ]
    },
    {
      "cell_type": "markdown",
      "metadata": {
        "id": "gqPijaORYAwJ",
        "colab_type": "text"
      },
      "source": [
        "[click here](https://tiny.cc/)\n"
      ]
    },
    {
      "cell_type": "markdown",
      "metadata": {
        "id": "w-40NT22Yb2U",
        "colab_type": "text"
      },
      "source": [
        "\n",
        "![image](data:image/jpeg;base64,/9j/4AAQSkZJRgABAQAAAQABAAD/2wCEAAkGBxMTEhUTExMWFRUWGB0YGBgYGBoZGhoZGhodHRgXGhoYHSggGB0lHRgaIjEhJSorLi8uGB8zODMtNygtLisBCgoKDg0OGxAQGy0lHx8tLS0tLS0tLS0tLS0tLS0tLS0tLS0tLS0tLS0tLS0tLS0tLS0tLS0tLS01LS0tLS0tLf/AABEIALcBEwMBIgACEQEDEQH/xAAcAAACAwEBAQEAAAAAAAAAAAAEBQIDBgABBwj/xABBEAABAgQEBAMHAQcDAgcBAAABAhEAAyExBBJBUQUiYXETgZEGMqGxwdHwQhQjUmJy4fGCkrIzohUkQ1NzwtIH/8QAGAEAAwEBAAAAAAAAAAAAAAAAAAECAwT/xAAhEQACAgIDAAMBAQAAAAAAAAAAAQIRITEDEkETUWEigf/aAAwDAQACEQMRAD8A+W8WwU2Un98lYUWy5qgoDuQoFmdmYEXrSqZoccY4tOnpHirzZTSwApsA2/pCd4IX1XbZERjwbDrXNSlNDqSkKAAuog0atzuI+jSeGpmyJuHATnWFkUAlqXKzEkrAdCxynLYgilHHz3gWOVImpmpCSU1GYOPT830eDMXxmbNOWapSkgEBKTkZ2qA3Ry+53jDmhKUlQm8izhs5QpnKQfMVDE5TQ2HpGilzBNQormATpaKCuUyxQDmTqCzUcHoRCLhMgELmFWUSykvvflAvmLUsKFyLxteAzcLmSRMLAEpVkJMtRDAkMnxE0GagA7ChyusobMnNXMUEBT5AFZAzJTmUVLy0a5q3QaCL8DLTlxJUAVJQkJc1CjOlhRFanJnH+o9xp8Thp2GmKkYrDompOVUlSEFMo5WUpKVADK6EEGmanMTeE3hGd4ikoRJQskgFYCAMxKUhcwgMFDL1NKGFHkvzAqF+HnEOwBFi6QoM76g1oLQVIxSky1JCilKjzJBICqggKFi2UX2hjL4ZLNAvw1gHPLCkzC4D5UKBAUtgSUgnTcCIDAJSspWCDQ5CUZglyC9feYOAW+UPutgB4ifNy8xUyxmbdnAV1qD8esQw0hRSaJD1IYAvmtZwKCzawXxCRkVzsl2y+6AQ/vMl6UZwGOj3i+RKmFWXKU5QlQSU5WTlfMo5QzuTWtRtEueBq6A0SFs6cxq1C96M40guUyUuoZ0gVS537ct27kxbhMMpRCcqiSaljY65RYNtelIYzcDLWcoIKUgOxZ1gOpNaUIo7O0RKa9Az4AWtkuHsH0d4OwFCRQemv6a6w1T7Pp5FFakmxBQQtJblNf0ggjMNu7AY7CATcpJrV3zA1NX1cgw/kjLBQWgs3OmlXch3bYO1qd94YSZecOZrsNS3Vq0at7PeIYNIQpKFklBAJYOQNWFidzt0h8rg8s80tKkhhRglbOxJDu9R1cbGMZTSHQvkSFMPDOcF0uHYn+EOxNNIZ4SbYFQISCL1AI5kuobP2DxX+wMoDwwDa5qdS4Gmo9DDD/wVYStQKQAHLkrBboXKTp1zCBTGkW4TgkqZLWoIS4PvPYMNmH4ekKZ/DkJDoWSNyFN5E+fpHuIxh/UVP0olgdGb5RFGU1UWJNg3z9NGvtGqbKKZSik7Hev4IJVPUupY+X2i/DYPMkkMQksagM/dvhSI4rBlDBScp+LeVv7RQFmHQoglqDV+0HYGaoVAoL9vKAcIDoot3T/9odcLlTAPElrBYgVBF3uQd20hgD8XnZ0AsKEehB/PKFSRSHvFUtLLpZyDm956h+YCmtFNCMQ0UjQYTFqTJlhQSoVyfxCtSCPz0pZ4q1gJyDKCzkWrs+8WcOwpVIlqapCgDo+Y6ioghGGmyiF5A1KBRbzdt+0Nt0SJ8SgoWQbjyHkNIslrjuJKUZhzJYijUto7HZoZDCJWSQ9HqaB9KtS+0IbBpZ6xfKIo8VzJGVRTdvL5xZJPekGhBwxStn7/AOY6Bi3WPYAo/MfGZxEqVJBGVKQotl99Qq5TegAq9usJodcf4R+zolArSpagSpIfMg/wqSRQh97vTUpRHRBpxwYx0FYVXl123gn9oKASk1ZtHalqU7xDhQCjlJSkGpUokBLA8xIrrYOa0EWT0pOikoepAdhRyAWdrsTqLQnViey3hYSZGIuOaUR6rGlKZoP4TiFS1HwgSopUhsr++GUrK7E5XuCKnYMDwvEBKVBKUtmBzLD2UCkmpDXcMzA3eNSvHSVFUxfgyyCrNLKV89SPDCrsywTQW6ERjyTaxQMmniU8yZiMQlQzqQErASpPLRsmZ0KFTmSDzKLh6wiEjmmnmLklBU4BSFLKiRVnyGj0J6vHkuSqaozFCapDAh1e9mYABaksTmpRJJrShMOcHhJPhJKFmWjORO8YglIZlykZBzEZ3FE+8DGdqICjDIIUFEcuYhrJcigc2TSvSGfCMMgqlpUFLOfKUZ0y05ljlNS6gNbbOBWCON8Hky5Pi4dajkUEzRNLKq4DIyMQ5AzBRFdKsjk4pIqUu4y1dkvQLFakO7E3btFxkpqxemhTJExcqYpM7FTZkw5smVTlBCUkkuEoDtoAyWI01SJmGlVVKHiqUCQledICCAkqUAlSmSEgBPKWJGhKngXFk4fCTOZM2YM0tJUouEKUxARQuUl8oWQKPUBwpmLyzRMUkThRbLUpudOZAISwUyVBLkWAAoBHHyJyf4jR6HSZyAS4WXBJysHJIOVbKITQEtfVjeGnCJElS/3qSVIBUyEkBmPK5SljQaB3LPCbCzggrUJcyWokDlZeQkBm8UAvQggXDkNaHRxkxCSxGQAFImTAFEFylRBdTlTUAAqTRoxa8BFHgpWyiwRmVKIyvckoUVKcqolSHFQSOhHT+DIZK1lDulWYWyOQlKS3OBlaoepNYt4QhTPmqoKcKSpQy1zFAcU0ADM4tBXEcQEOV/vErSRnbmz1pQsEggKFiM/eGt0hlU/AhMz3XKcvOCoBScp90UCNstfhDfDY5veScpYUqUivVnL1YitYQK4gMyVBCyAgJDkEu3vB6VLdQ2sHYCeVE1SF1IqwJexKRS1jvGnTGQsaGcklRWpISDShA6Btb9IU4qb4i1BBJRTmykJIFAyWfZidRpE8UtSqTEkNobEP7wZn0DZiI8XiHyulIytYfEsWfy9bxpCAylEhDBaX5tSD22iYwIFQcpNQkjMk7PZvI+tW9/alFyCC1QwP3rSLJSipQKg7aOA33/uI6KKBRNYsqWTVyUknd+Xo9mHePMRi0nKkUAJsS9dGJo0MpOVSSkgKJtU8o1L3+8AcZk5QgUILtTtfQ92EFAE4DA+IgqT+mrv02a9Ib8HkTA/6gGsa76sG8/KFvB5IGHmLSpSVVDcpTYXzV9GMG8Jx02WDyBaXqU1UP9JIfyL9IBjL2iWn9mVTKXTQ394fjxjErjTcd4oiZh1pFXKQFClQoEgpVUFn3tGTTAOJ9H9mFpGGlgkOym3PMqwuf7RfiVFeZKUqScruQAB5k3fpCbgeJCcOjmQCARmLukFZu3wFLwTM4rnl0SZhc1UQhPVq6BrnWNItVkh7EuMW6nO39qHUdYeYbCTAykKCwWcdCKVDv5PGcxUx1Vy2FE0AAo3eL5S1ByDlPQsfQRmx0x2E/vVDKQcpo71y1Lv39YHkF+sDSMSSSSqpSRe4a1j8tNLxZhixBqNobeBDcmWKFJcXq31joigOHrXv946H3/APybxBYNBViXO/4zvq8BiL8Wa6eUDiOlaMo6NF7J4YqUpQCjlAcJQJhLqSAliaAlqsbaO4PxnBFLR4sxakIKT4OZny0JaWHLKUVBk2cEuCIB9nQsoKJWYmYtCVBIqUALKgaHl5Uk+hd41nESuRK8adNE6cwyqzVlBwrw0hK2WTmYkg0YGgAjj5puM8bB4Yi4TwkYfmnoWM/u1Zk0UArRSikvlBsRUOImrGImTEpCUS5YPOAlqILsDckgDlFSQL2gIzZkx5gqqaVUuAGCQBazEeVbVMxHD1BKVllSksFKR7wrlJdim9B1IL1qms3LZLGnD56pSVzSlKw6sqVLyunmHMM1RdkpN1aUECpwkyatCzKQjKAC1EKBd2UhJKSHKa5jS8X+zmLRMJJTmSlK1+GHYAIVl8VZLqDEhRSE0CjzFiJYriBmf9JlVIISlSgigZAzhlJboKhOojP+lJ4GV/tKUIMmdnmtypYZPBCVEchI/eFnoWHNuAyKfKys9aUe3Yw2lylHnWlSkgXILCwb+woAIEThiqhqTsKiunc941g1En07hM1Kp0oTF5QmdLaiio55gfKCrKlg5tqYb8SnKlT5suUpkoUZaSwcpRypJpqEi25hDwmSDjJSSWAmgki4CDmJ9Ew7x0ySCxlVZypCySSQ78z+nXyi5pdvs1ei3B41ZSrMzu9UguWZtN7faGKMV4oAW7g/pozjmTUaqL03NNlPC5corZcxWS7hJCqVYgBVOo0r0h1icHLBzoWCwcpSFEpYC71JNSRpWMpRjehUOuDGgCFMtDMkgulJcEVLa3bQmPOKYmcRflc0YcqhdJDN5mt7PVUMQkgiY/iA6a1J0ZnCrfWh6SrXMsAsKm42YkO1Yzhw/1bGF4dVKn5NBUl0EEP/Ke3lWCJHAZhl+Ig5wGdIBChSrD9TGjO/SJ5ZbJL5mFmO1egY0jVOL0OiUzEFbOQ4DW0+XnFTElt7Xfy9bx4hJL2Hq3ahia8Oqhdm2HpR6RSVYA8le6QBXvrrtF8jCuNc18wcMNh1+0Qk4chq1saflesM8KCxYUIqQK06w6wUV4TDsl0gFVu42p9XgPjpUfDzUDFh6OTDrAIOVm3r8hCXjslWdLm4J2ArYfmsL0pLIfwlLySNS/0ENuGYdQJSQ1bm3rtCvhiWkpOyi4dnFKU6vGiwlRru5NT9v7QO7Az/tjgUpl+LlAWFAEjUKpVurRj5WKjbe33LglkU5kP/uH1aPmeEmFRUxoA59QPmYpIaeDf8DnBWHUQhS1JKgahKGYEOVa/wBIJtZ4YyOFrQyzKQshndT3vlATlYdaxmfYqYuYidLShwCFZsoUUkggHQgcv9o0mB4yqWkoVh5SSCWUJhShRIdPKkEpJFWLCvoupLYp9ocelU85U5GADME1argFtd4Y/tyHCQkKY08N1ZlCxKiCaPbprGUx2MXPxKltlzLAoczBLJoSz0Gsa2XgP3CDLSFpqVJK1JNWD5UmhFHJJ7QpLIAU/EOslFvLa9AG9IOkTywql2q5oHZgaUNIXy15SoMFpqwLb1ctZho3xL9iSZh5QUjYtU3qwr5xGWAzxGNWFENLDUbMr/8AUdC6XhKBwP8AcofAKEdDoWT898XQlKkpSsLZNSLO6iQC1QARX6NAAiU01iIjtqsGa0a72G4omQnEErKVKSAhm5qkrScwI90Wo73hfxTisyclSlKIAYJSkAJYqByuGoLgVt1eF2CTTp8L9YYp4ZMmtlyhKi+da0oSLgVUbliGFyAIwfHFT7PZPp5wjGeGlKgGWCSggqBryuCLAMoUIvHmJnKJ5nsAA5ygBIAYaUAPWC+H4LIvJ4KZ+Q5c6VLyZnd3QwXVxerU0MOsTNMxxN8FOVJUAlIr+lIGVwatc/qck1iZSSdiexbwDHSUZkqS+YNzoBS5BAzkzAMoooODUPGiwntBJlomolywppgS8uiS4U6xUEjlI8+sKl4eSUqICXBYnNL6AKKAnMEX2fN6hyMO2YZaXOUhQDa8pNGJr1iJQhybHpHYtAzOhWYGtUsQexJr2MSTmcKzkEPXUDvqet4IRKBIGpqzGwFw/Y+kWY5ATLp2b6/ONFFCQZwXHy8Qo/tCWmS5cxpyaZs6cjTQxK1HMwUK1q7QCrB3Z+x+MT4HLaWs6qUkDskEk+pT6QyIpBGPVujWsgWHwbB3UFaEd99KQ34fLIIzA1ubmr73jwEBI3/vBUuYPhDasdI9/ZAFEpCWNdadIJk4QGIYacGMFS5gaFQUhjLmsKcpFARRxsQO9/pSOlSgOrwIicdovSsxKikMMyDb0gkoppTtAKZhFI9cm7+cFDQakiL0L5YXoSYJlpp5Q2hjXAFOXq9NNIWcbSkrTegqD3grDIsReBOMEBYcNyj5mFWQ9DMIkCRo7/WDMDPZgzjfWA8PMT4DuL/WGPCVpI84GHgB7bynwU0f0HX/ANxOkYD2dwQJnjeQr4KQr6R9J9rT/wCTnAD9INf60mMB7OkiYtqkypg/7YaGtB3sTO8CbMSASFpqAQPdL1JBYM9qxqJaMPNCqgkBR/6k0rdnolSnUHFdKPGW4JKfEp5Cu/KCA4CSWrTTWNzjZUtcpWYKdiopVpQkUOao6G40MDdEswmBlZlizmrWG57ARpMDyLDqAVzVEvOliDsbV0GneEnB2zuRm5TQAFz0HnDidPRlfJNTShVY+v3MReSmBklza8WIcwThwgoWSQCEnKDcmln76RUmZFUBahmqgHrzD5UjouI6p+B+IFY6JoR+X8Qz0tFaYnPU5OtT84imOwxWh1gFISmUpgpioqBGYNykApcA/q17wz4Xj0pWtE3OZK0ZFpBSlS0J/wCmnMkgZnGZnAPVg6fCJJS2l/m34Notny1pmmVqcqTy75VNZxVrXaMZJPAvTSYnh0qVJSUvMBSlSF5QHa+YUKXOgfoaGB0YgBILEkEFIplSwZSg/pYu5i9OEmIcFlAlyMoLEMDaoNdC9Gg3hkmqipLhAClGxSmtQ9LJ3qRHPdLOSbA8FPUjECuRINjmCRf3gku1SW6wVJwqkDnVLnqPusp2ABdxfq1RfYswwPEM4VlyBlA1Yk2bMVAqD0NAfKse4DAS5imQohaHJSlWWgcslSiXIc7RDm/UVRVg560K5VDMzFmUFA3oAzam1t4Ypx+FxMuZLUiXKmBIUZiUIUokcpS0zlADgu4JfRnhXPVOlK5EzEOpwpsqtqhI+8V4bjShMOfnZkkqYKKSSSMzhSnUbQ3BtWhxOxPCJuGORYpoRaoB3uzHUVFTEdI2PEJsqagCYQtWR5a2T4oY5cq2uH0uGfWmXVNSSwID7gN5+eojbin2WR+kA7QahFPKBZs1I+FreUFJxKW8o0KLMMi8GyxpC/D4ih6N9YsOKUT+bQUHo4kyoJoNoXYJKlD3oMlYdzWCgsKSqgc0NBHGYBA89AS120f8pHJmiJoaYWJuwixK1NtAP7RFkvE0gGOZBLBzCP2hmjxQ+iB9fvDOTidDUQi4nLCpxJrQCvSCsgtjvCYtIwwPVv8AuhnwnGgpokmvQaDeEqEgYcBv1fWDuGzQEb1P0gYXgN9psSThZoysyRqP4hs/0jF+zSh42wyL/wCJjTe0Ux8JNNqC9/fTSneMp7KK/wDMo8/+JhDjoZcCnNiZJ/mT8Q31jf8AE38KaohgJaiN/dLPHzKUvwpwL1QvSrZVNQa2jV8W44syVIsVDKQpBBY0O1b/AI8KSyDF3svikS5ilLtkIF7kp/hrDXGcTStBSJSUAkOR6szdPhGc4TLKlKBUBR+txbc1tBs9NRUq+FNLwhvYdNQkIDEVBoA+op0iuQg6UiCpmVLBRcioIZnbeK8POqNniqFeBynCr1Ch5p+sdEF4utcp7t9THRNIXY/LOaJSxEWiaI6zM1nsliZcvKVJdRVcmgBerBJJNgBSpdw0QwsoKx5rQTFspQAbK4SoitiAfKAMJMXLSGJBKQXGxER4dNOdRdixqa3IvvGDjlsXprpM+TLdyW99Slh1OHATqUudFBw76tEp3ElrS0sKl5kq8QlWYHM+bmX/AC6kvfuQsPNUpsjkJcApQTo2YIYXa530gr9kCinNnUQ1CAWHup5ctLChpRtK87pPIkB4edLBbO1GKkAknfQEf2grC4UEOhM1QueQDTQlVNfSDZuAMpQWEJGYggMZhDuGSki5LnyYQz4ZiylMtSiGKQhKVnKDM95NkMQGu+mgOWIfI2rQ6A8FiVDlVKJDg55ijqKAsSkX1Z6sXjKS56pk8kHLnWWI0zKZ/QxtPaPEYmRKmhcp5RBAWEhtkkLRRna99YxXAcP4iy36EKX/ALRXyAr5RtwrDbGjUzTMkTM0yWVILgKBUkLBGiiKKYgsoPZw0A4qeFzCoJyvUAEUOtD1qzeZvC2biDmYq+JbYH0jkr2NekaqPoIYFYYDW39oLWsMOwhRnJaCJyq+nyEXRQzw0wZSXbmAjlYiv5tAMidyt1f5RJCoKA0XCcQGYp167d41IkylIC3KD/L08nc7xkuDLDDvtGlw84NVOYdQ7QdGyG8gGKZ2qaam0ApVHYzFVLMKMwgNM2BopB4XFiZukLRiWo8cnF1EQVZopc6tYWcRm/vlOdv+IjpWJBLOQdtLQgxU4mYpzqfhSHWRLZr1YlIkpD6wRhcaMo7m8ZteIaUgaZi3x+4hlwzFDIA9almB+cJoLpBPHMUo4dYanLW36hZ6/CM5wRX75IzMS9fIwz45NHgrqXYUB5TzBqfn0jOcFnjx5b2zD7QUOLwPMesJWpt+96/WD8RPKkKVVVKkhmGwr20hLxyaAtxYgGzdPpBiZoOEKgT7nTSh+UDVheEXcH5ltcBL/IfWGqMAFVzoanKKltdKGMlwDGZVrL2QfVw0O8BNCUuXr9IShYSYVi3lkscyABXUOS3lT4xVKxJcNXsRfvC/i2Pos199I9Eg/jws/aia+rGo3fp0+cNxpk9sGtPEU6gPrf6kR0ZUrH8T9WT9Y6DqibPkgi7DyypQAqSWHU7RUIN4UhRmJKQCQRezm3xt1jZ6GPF4CepEtQlKKCjKlTcpyuCxtQD8aGPs77GYiatlIaWop/eAgpYgqLGxIb5GoIMA4tUoCWJlH5iANEk+GCpR5kuCKVYF6l4ccN9o1IzqQfANAnwWyC5EsoUACBmNUi2UF2jlnKdVEGssbKxcnDSwtCFlLlCCCoLUpILKcgJQNWIrlOoYZ/iftBnUGAKUgZWzJJOUBpi3C1Mx1q+0U4vAibVE0KmlRUFMpOY3NwQCKa/YJTIWznMRuX+flBxccNsSvwMncWmzMylHLRglPKkX/SKDZ4M9ncQrNlC0S8xFFqZCjTKk5nD7PvcM8JHcs9bN/iD5HCpliABu4PYX1rGzjGqKUWzTe2U2dLw6ZS3Q5CVJSshKweYKyJOUhpYqekZng6lJVmSSCBp1iHE0rQ0pSyQnmy1YE2YOzsbwx4HMSlCgooGcgBSgokM9U5Qa+UKCUYhWaImWcxoe7Wi1OEPX0Ig0yWqJqT/pWD3JKAIkmS4J8UIJH6UpPYOC59IbnEfVggkrezt+axauWTXQ9dWgqVhyxzT0gh7pUSdg+U39fp4mStnBB3GYZvNJZSRraGnYUyiUCm0EIUs3R8ImJRuUsept1hrwvhGcuWbuD8ouv0dAMsZalJHqIsRjFaBXkT94czuHpslILdCfpHuE4e5qgN2b5iHS+xV+GemYovW/d4h4yjSNBxHhTK5U03Yfg84S4qQlNAW6UhUMrKFAXA7qEeS5rG79oqkTwHcBQtb4xaFyv/cO9EOabk29YTiIvWkqZQJr0LU2boBSFUydzq7n5mLZ3EiaJJD0s3ysYW5ktcv8HhUA48dwlOx+gH0hphMQAkpLP1f6RnZGPlpuhRbXMHftlp6wUOJCnhgv29N9IQqsYcYxP7pVQ9LBqOKRn8BO/eor+oRdxPGZ5ZJBFbkAa9GhPgcTlmoVQsoFiHFDqNRA0PRrfaGXlylwXSTQMQx2IBat+h2inB8YH7HNlkgsDlf+Y6Hu584H4zNJlgFASq/uscujvYUoG66xnpOIZCxuAO1QfvC63FWhDngeKeYQ7cpZ7EgggGNijhOIWhK0oJSU6Am97W7R844Qv943Qv2879o0x4/MEsykE5iCkKIYpGqnSxszEvfzilh5JlbeDziMxSEDN+talDqE8oI7tQwPgMUygdBXfbeFk7OtipThICUh3ASPdSkE0A2EFYYJygmahAs6ywfZ96/DpFpK8jrBtFcEkqLsK946E2G4wqSkSxicMQmxKAu9feKXIrTpHQ6Rn1Z8oeGfs+WnJOxTf+tI+sLly1C4I7giLMKvKtJtUV1AepDas8Q9GiNCcP8AtPgSgqVKypAJmKCElnbmJqbvb3jH0P2d/wD5HMzZpuJkpS1ZcsKmZgfdVnUQ1x7tOW94+Y4ZIX4iVKfmLPcsWPYsQd6bPDGWpWpo7FCVBBu+ZmzAk1driM3G1V0Xj0+icZ9muHSCZJ4qiVO/U6Ab0y8poaMxJIF9IWf+CyUpdHFcOpL0aQKkVb3n2ceZjEJWkTUr8LOkO6F5VJJG7JAPZhesNeG8aEhQmypWVQGWzJvnBYOFEFIIcPyjaE+J6RUHEKk5ZxUmXPlqmpzfukAkrCQSVSnZJDOWBehLR5juAY1KBMVhZrUqGbL/ADJQkqHc/WPVe1a3CRLQAAWGV7/1JqOhePB7UYvKkAITLSeVISAkEXYJNDvC6z8opuP2DSOEySOaVNCyTZSgDXcoLkVF/tD7hGJkYdJBlzkkjR8pDuA5KHI2Li9Kwhm4yctTlEsZr5JaQC9XoGN/lFuPnTUKVKVO910kOpII0cOzM3QdIHxN4bItLQ4OJmLJWiSQj+IqSn5JI6uTV4sRMmSQRiMPMKFfrAzpHQZCyRTbQRmJOIWkugBqP+dCR6wxVxnEEMkqRZ2WwptsPlFvi+i1Nej1fG8MlJSM6gpyUTJfijNunMUqTVqZiKC8VzOJSkumXI2PuTRlce6wV136dkkvFT5tAqjMaqLuC+rE+WvShOE4TNUHJYDS+kJcY/kHGExAUoESPJSpaf8AmVKFY0Mz2iVLQWkgHRp6jX/SekLOEezaLrWR2LejeUWcSwskLSn95M/3K7Xo8UoibKz7Qz9Uo25gtV+8DyuNqSqqpI/0GnpaDFSpID+EAbsUpSaXYLYjtX6xTLx0gG8sUtnQ3mAs9NIK/A/0txXFDMS48INqlJD+t4R4qctfKFP/AEpFj5Pr8esafCcYkAFJVLY7TA3whNxfiKCaEKFjzrUDtQCHb+gpfZl8TnS4NOhHxhenEFJf4Wdu1f8AMOMXiAsFpdbBQSvexzNGexctYVUAD4/lItNvZm1WhhKxCDyrSAdCP8tBIGHCSHfXNX0ZIPq4jPlbdY9ROOh9IHCxKQ6/av4EOB0LXf8AUS0QRxspeg3oHejXJFO0K1qO7/naOUotcA9oXxh3ZfxLiPiISnUa9K0t1/HhaEkaGC8za1/N4j43UN0P2iaozbZJOKLZWZ7l3fWzwECSSBtBRDMQD6MPiXiiXLYuW7V3djSGmqDtZ5JlqSoH6UgpONmAipo3kNmtqfWKUIVtfYKAr3DRa++UD+pz8ILH2okvGrJdyT1rTzikzXNQSTs4+V4MlyAr3VJHcPTf/MVzUZTpfStBuBR9fOLUkw7WQTikj9H/AGmPI8ITuf8AbHkPsK0LSotzDMN9fXUdDEkkfwoP+kfaPVTxWwD2r+N9orOIH5r0vT8pCcUAaZxJzgALd3yi96tByOPzWyrTKmDZSMw+JhLKmFyxvo3wrF8xShRTBq0t/nRqWhdEUm0OU8aSU5Th5VmGQqTSp0ffRo8ncQlFOUSyLf8AqP02/KwhCjTb0+esWUFXHo4PfaGuNB3Y4/aMzMlKWrlJTel+V99tIuxGLxCED92MoU7i4Ju4/wBOo06wk8Yiprs0G4Hiakl0q7pJ3uwJIHlvA1Wik09jKTxwKSAskEaqDggioIYgjStR5RZPxaFglTKU7BSSaAMB8PlrA07EIUXKBW4A2L2+8WAygAGFNBTtVz6dYUYJ+FXXpPx5RN+UUCXqN6gfOLF49T8qTlFnp8fjAUzGJHujtt8o8TPJZmHUt9BGygiHIaYXFKN8tasVdOlfWHGGWs/qAD3CUns2cjpCLBlb0UB1H5aGaAQPfUrs4cnWhJjSPHglzNKidOSP+qshtkoHZwaFjCHik7Os51vls6iregu3wvHuIKEiqU5yP1FzQda26wmclyB8/rF/HSojvbGSZiEimU9kLP0+8RkT1IcpeupSBf8AqAIgJRLMDsSKN5O8DZDRw/dVPUD8aJ6Fdh/guNTkK5VqrsU/UwTjcYuYKqU//wAiflfzjPyZLVF9nJB7Ug6Wk636V9bVg+NC7sFxeYD3vr9YUT1bqB7Q3n4c3zGr/jP8oAVJIq9OqSD62iZQopSsVq7+oI+YiCkN3hhMlC/0gNSQ1KtE1Qigr1jk4gjR39Y6bKN6fL1jwJby8/nDoCYSkh2bt/fpEFqD9un5848M3r8HiAxHT6+riIaQFxV0I2dvvFktTVZXq0UIXf3RTsa00ve3eOWhWjJfWj+tx5RLgGArPT9QrsfV3EVKlOHAvuQ3f82ipGIUmmYOP4i9qMKdKCKp2Jf/ACfk8JQoKLCtQBLAvo/00ipM6aTo9v0hxsfx4oWpzp9Y5Db/AC+8HVDCzLVqFv0V/aOgMnr8R948h0gPJWYc1qtWofZo8KlO7sXe1orTLj1S3Nbwhnqz679YtEwNqw/POKgfxo9QIYgyXNGzxJgbUf0+FoElorqIIlp2f4Rdio7LrdtN/wAvF8lJoaHo4p+P8Y8QkijPuw+0WoWRXKfnAohZahLWt389ohU2YeVWO+8RVPds1O8RQo2LDZ4r8EXFPrvT6mLsPLFyCXoGYnpSK5UpKqO5uA/96Q64fhEEUBd6kEN2P+I0jGxNnYDDgBhmpuGPyhlhiSQNrUIfdv8AEeScMEOeYbOQR1oD9o9mgFlHOB0Sw83TX1jZKjO7I8VWyXzm7Uy7/ljqIBlS6EuQaXDlm7x7j1ORzMxsWL6NUE69LwKokGqVXPLv1EJvI0i2YlF85Hmyfi8dJQrK4UDWhJpU/wAtPjrATqBqgltan5ljBUrECxT1/SG7c30iSguUCAxNmap+Yr8YYyC7MXPR9NGKqfHygGWVsCEkH8pcv6CD5QoHUA5bz+Zt84pUJk5sxJHMFvrb+4hfikpIYKBazltNwzj+8OE4Zn5jW9uxDs8VYvCnLVatgQAPpTWBqwRlZ0zRld6gdrRSZjfHUXhrisIpKieVme79/dy9YCnS3YuCLsx+9O0c8kzTDFE+Q7kGo6ufS0CKKgaEw6XIYA5HD1yig2up4FxCARYj5vtQt6xLQC9M3cDtePSew/O0dMSdi35tHhS/40CAh4et4tk4gigr8fU/ZorlqZ3tBPhA1d+0FAeeJSwa16+u0QCUGpfsG+8eKktsPn6RS+4hUBKYUbEdq/NoqSU9W6/2i6Xhwa5h6D7xMpA0dvL61hdR2Dv0/PWOgjwv5PzyjyCgACGj3L0iaSNQO5iVD+fe8TQHl/8ADxJmvEU/n+YvloOoPz7wwJSpDmp2fzg6ThgB9YjhJArUtq31eJzpABrXoQG/z+CNYqkSQVMaiQH7k/CO5gOa3zgdSUpOg8um0XS0DuNyW9GhXkZxbTXWC8FhBUqWlB0JqO8eYWQFagtUgAFu/wB7UjQ4PChgEpygB3LP5AA1fteNIQ+yWwfDcMFMyyodEnXpX5Q7kIypASH8gG+sTwuDUAxWVF9nP/ECGqcEEpFKs5csOu0bXGJFNimbPBDPzDc7b5ftAk2SSQpQNnBeZlet9Faw6nYdZN0JG+ZgOpKdqmAsfgpZrMIW2qgopZIo4FoXax9aAZclKk5yotUJAUBp3DvsXtHqAkunKgkUbOXruxBHYPBqMRKlozJQEpf9IJFa+7WnTtFI9psNlH7zKAaBUlV9QCQNohyLURHiFLSQlEjM1HIExtmzP6NF8oKmElailRAPhsUl7kuXBo3pBiOMyDyoUQp8z5GSo7EpB6GwdhF6cakpPuveuZiegKe+hhJDAjJy0S+ZiwcFW5GndtXgzAcRChlmyimoS4avVqHbTrE8BMWaggkD3hYAenwixYTMbOFA0LpJDl3H9Wzbbw6YhyjJlBc1tUn4GwpFSC70y6udaeVaRDDTGNagXt8XY0+8X5nBZ6dR9DSAVCbiCHNVgObZikh/5SW6Md4VTZQqyyK2Oh35q/CHvGMIlSXDE7FSiA+4zb9d4VKwZYsl6XUqx3ZntuT3gcWxppCrFEgc1eqqv00/NYARqRlbyb5lvtB0/DzFUCSsitKjpY/m0Dz+FKWjMH2oX+dYzaaZV2DzMODQ/b5flIDmYcAhh61Hxg2Rg1oIClJLfpo9bnMx7RDFSS55mGz0HdvlCsKwLFpiCVEVB/O8dNSTavlFaSv3QCejObbRDYqCvFeqvgYomdI8Uk6Aim7/AE+EQSvcmsVYEuwi5DH9Td3v6RyUI3c9yW+8erpcfnnD6hZcnh71f0D/ACDR0DV2+UdE9QstKwagX/SaivyjikPQNvQN8DvHR0JsZNMh6u/p9YkgsQAejabbx0dFa0IkVqTVJZn/AL3iEuao1uQbu3XSOjoPQLUy2IzC5pXz9IOwcsFTAJzDmcgny3jo6NIKxGjwuCWU8pCyA+UctPMtDjhvDytLlDAXfKTTqCX+UdHQ5NpFJIZycPJSD+7RUfwAUNqW3iS8dQj9RPp5/wCY6OiWgQjxSil1ME7rS9OrEnUnTWE2JxSUm76B3JDGrU/Hj2OjZJIi2yhPFXch3NfdANxVwqsSmzHdRD2Be+70PweOjogokn9n95mLVSxD9289Y8T4LkoDBJ0Gl7msdHRSJeDxGMGhDgmrHo1AbaecTVjFEpSEu+7Mezk/ER0dF0iW2NsLiZimobXBAbTfvBkjgilqzFYD6czvcA6Fw+sdHRHJJxWBwVvIaPZ6/wC9U+gDZXtY9hEV8JQgqcg1JZiD6gl/NrR5HRj3k9mvVIV8WkKGYpBUAbpUAKUPvAEMxoOkZ7EThmJ5i9UqJzKTS2ZTl2c0pWPY6L6omwDGJmLDpcJvUuPRw2sLJkgm+vU19D+PHR0TJJBdkf2NB0Ib479qxUuQxLE0pe3peOjolpADpl0Z6R5NkuY6OhUBUlTGkFS5idnfYtXTSOjoIgz0qTt+esdHR0XYj//Z)"
      ]
    },
    {
      "cell_type": "markdown",
      "metadata": {
        "id": "VNfAXOO1bn2q",
        "colab_type": "text"
      },
      "source": [
        "1. Different paradigms\n",
        "2. Interpreted pl\n",
        "3. open source\n",
        "4. object oriented pl\n"
      ]
    },
    {
      "cell_type": "markdown",
      "metadata": {
        "id": "oAOvdQlreq3b",
        "colab_type": "text"
      },
      "source": [
        "#NUMERIC DATA TYPES\n",
        "1. int\n",
        "2. float\n",
        "3. complex"
      ]
    },
    {
      "cell_type": "code",
      "metadata": {
        "id": "PKaQ3Q9afP3j",
        "colab_type": "code",
        "outputId": "dd5871d7-9af8-4b51-b37e-1b4eaed6cb4a",
        "colab": {
          "base_uri": "https://localhost:8080/",
          "height": 34
        }
      },
      "source": [
        "a=10\n",
        "b=23.34\n",
        "c=1+2j\n",
        "print(type(a),type(b),type(c))\n"
      ],
      "execution_count": 0,
      "outputs": [
        {
          "output_type": "stream",
          "text": [
            "<class 'int'> <class 'float'> <class 'complex'>\n"
          ],
          "name": "stdout"
        }
      ]
    },
    {
      "cell_type": "code",
      "metadata": {
        "id": "46wsjhEdgedl",
        "colab_type": "code",
        "outputId": "26df278d-c438-4cfb-c7ae-f2bf416c2008",
        "colab": {
          "base_uri": "https://localhost:8080/",
          "height": 68
        }
      },
      "source": [
        "c1=1+2j\n",
        "c2=complex(2,3)\n",
        "print(c1+c2)\n",
        "print(c2.real)\n",
        "print(c2.imag)"
      ],
      "execution_count": 0,
      "outputs": [
        {
          "output_type": "stream",
          "text": [
            "(3+5j)\n",
            "2.0\n",
            "3.0\n"
          ],
          "name": "stdout"
        }
      ]
    },
    {
      "cell_type": "code",
      "metadata": {
        "id": "tEq4gR96hwc-",
        "colab_type": "code",
        "outputId": "263ebd2a-ba84-4b99-9b01-c6cf43defe5a",
        "colab": {
          "base_uri": "https://localhost:8080/",
          "height": 68
        }
      },
      "source": [
        "#input and output functions\n",
        "#input-->input()\n",
        "#output-->print()\n",
        "a=int(input(\"enter value of a\"))\n",
        "b=int(input(\"enter value of b\"))\n",
        "print(a+b,end=\" \")\n",
        "print(a-b,a*b,a/b,sep=\",\")"
      ],
      "execution_count": 0,
      "outputs": [
        {
          "output_type": "stream",
          "text": [
            "enter value of a20\n",
            "enter value of b10\n",
            "30 10,200,2.0\n"
          ],
          "name": "stdout"
        }
      ]
    },
    {
      "cell_type": "markdown",
      "metadata": {
        "id": "iSRMzKSskV4f",
        "colab_type": "text"
      },
      "source": [
        "operators:symbol which performs some specific task\n",
        "operands:values given to operator are known as operand\n"
      ]
    },
    {
      "cell_type": "code",
      "metadata": {
        "id": "5ve25uqZklfH",
        "colab_type": "code",
        "outputId": "a7df1f74-db3d-4cd6-84cc-566ae5198fba",
        "colab": {
          "base_uri": "https://localhost:8080/",
          "height": 170
        }
      },
      "source": [
        "#arithmetic operators:+,-,*,/,%,//,**\n",
        "a=int(input(\"enter value of a\"))\n",
        "b=int(input(\"enter value of b\"))\n",
        "print(a+b)\n",
        "print(a-b)\n",
        "print(a*b)\n",
        "print(a/b)     \n",
        "print(a%b) \n",
        "print(a//b) \n",
        "print(a**b)"
      ],
      "execution_count": 0,
      "outputs": [
        {
          "output_type": "stream",
          "text": [
            "enter value of a2\n",
            "enter value of b5\n",
            "7\n",
            "-3\n",
            "10\n",
            "0.4\n",
            "2\n",
            "0\n",
            "32\n"
          ],
          "name": "stdout"
        }
      ]
    },
    {
      "cell_type": "code",
      "metadata": {
        "id": "VjoHLcVWtgSD",
        "colab_type": "code",
        "colab": {}
      },
      "source": [
        ""
      ],
      "execution_count": 0,
      "outputs": []
    },
    {
      "cell_type": "code",
      "metadata": {
        "id": "2sZ4KriEnJo7",
        "colab_type": "code",
        "outputId": "17439fd9-7288-4117-f573-08f846957440",
        "colab": {
          "base_uri": "https://localhost:8080/",
          "height": 119
        }
      },
      "source": [
        "# Relational operators:<,>,>=,<=,==,!=\n",
        "print(a<b)\n",
        "print(a>b)\n",
        "print(a<=b)\n",
        "print(a>=b)\n",
        "print(a==b)\n",
        "print(a!=b)"
      ],
      "execution_count": 0,
      "outputs": [
        {
          "output_type": "stream",
          "text": [
            "True\n",
            "False\n",
            "True\n",
            "False\n",
            "False\n",
            "True\n"
          ],
          "name": "stdout"
        }
      ]
    },
    {
      "cell_type": "code",
      "metadata": {
        "id": "q5bq2iMun3eS",
        "colab_type": "code",
        "outputId": "39accb46-7d4c-4651-b7ee-07a94c4f5d93",
        "colab": {
          "base_uri": "https://localhost:8080/",
          "height": 68
        }
      },
      "source": [
        "#logical operators:and,or,not\n",
        "print(a<b and a>1)\n",
        "print(a<b or a>1)\n",
        "print(not a<b)"
      ],
      "execution_count": 0,
      "outputs": [
        {
          "output_type": "stream",
          "text": [
            "True\n",
            "True\n",
            "False\n"
          ],
          "name": "stdout"
        }
      ]
    },
    {
      "cell_type": "code",
      "metadata": {
        "id": "hxXsInCppbdg",
        "colab_type": "code",
        "outputId": "ede7e5db-e6a8-4700-914b-70e1c919498c",
        "colab": {
          "base_uri": "https://localhost:8080/",
          "height": 85
        }
      },
      "source": [
        "#Membership operators:in,not,in\n",
        "list1=[12,23,34,45,56,67]\n",
        "print(12 in list1)\n",
        "print(120 in list1)\n",
        "print(12 not in list1)\n",
        "print(120 not in list1)"
      ],
      "execution_count": 0,
      "outputs": [
        {
          "output_type": "stream",
          "text": [
            "True\n",
            "False\n",
            "False\n",
            "True\n"
          ],
          "name": "stdout"
        }
      ]
    },
    {
      "cell_type": "code",
      "metadata": {
        "id": "Qh5WAL_2rhy4",
        "colab_type": "code",
        "outputId": "f2329916-41d1-46fe-bd96-0b966fc54391",
        "colab": {
          "base_uri": "https://localhost:8080/",
          "height": 34
        }
      },
      "source": [
        "#coditional statements:if,else,elif\n",
        "if a < b:\n",
        "    print(\"a is less than b\")\n",
        "elif a>b:\n",
        "    print(\"a is greater than b\")\n",
        "else:\n",
        "    print(\"a equals to b\")"
      ],
      "execution_count": 0,
      "outputs": [
        {
          "output_type": "stream",
          "text": [
            "a is less than b\n"
          ],
          "name": "stdout"
        }
      ]
    },
    {
      "cell_type": "code",
      "metadata": {
        "id": "3m1UiXKrtmTI",
        "colab_type": "code",
        "outputId": "e80d419e-35bd-49c7-8bfb-afe02fa9609d",
        "colab": {
          "base_uri": "https://localhost:8080/",
          "height": 85
        }
      },
      "source": [
        "a=int(input(\"enter value of a\"))\n",
        "b=int(input(\"enter value of b\"))\n",
        "c=int(input(\"enter value of c\"))\n",
        "if a>b and a>c:\n",
        "    print(\"b is greater\",b)\n",
        "elif b>c:\n",
        "    print(\"a is greater\",a)\n",
        "else:\n",
        "    print(\"c is greater\",c)"
      ],
      "execution_count": 0,
      "outputs": [
        {
          "output_type": "stream",
          "text": [
            "enter value of a10\n",
            "enter value of b20\n",
            "enter value of c30\n",
            "c is greater 30\n"
          ],
          "name": "stdout"
        }
      ]
    },
    {
      "cell_type": "code",
      "metadata": {
        "id": "cgaHwh1dwAqh",
        "colab_type": "code",
        "outputId": "6aa17dfd-f179-473c-9b75-be5e86621397",
        "colab": {
          "base_uri": "https://localhost:8080/",
          "height": 51
        }
      },
      "source": [
        "#loops:while ,for\n",
        "n=int(input(\"enter n value\"))\n",
        "i=1\n",
        "while i<=n:\n",
        "    print(i,end=\" \")\n",
        "    i +=1"
      ],
      "execution_count": 0,
      "outputs": [
        {
          "output_type": "stream",
          "text": [
            "enter n value10\n",
            "1 2 3 4 5 6 7 8 9 10 "
          ],
          "name": "stdout"
        }
      ]
    }
  ]
}